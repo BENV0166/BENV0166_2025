{
 "cells": [
  {
   "cell_type": "markdown",
   "id": "4136e878",
   "metadata": {},
   "source": [
    "# Exercise 5B - Parallelization\n",
    "\n",
    "Introduced in Tutorial 5.\n",
    "\n",
    "The purpose of this exercise is to show you how code execution can be done in parallel, and the rates it can speed processes up.\n",
    "\n",
    "### Colour codes\n",
    "\n",
    "<span style=\"color:orange;\"> Orange text is for emphasis and definitions </span>\n",
    "\n",
    "<span style=\"color:lime;\"> Green text is for tasks to be completed by the student </span>\n",
    "\n",
    "<span style=\"color:dodgerblue;\"> Blue text is for Python coding tricks and references </span>"
   ]
  },
  {
   "cell_type": "markdown",
   "id": "a07f134a",
   "metadata": {},
   "source": [
    "## Load all the necessary Python packages\n",
    "All packages should work with Conda environment if installed on your machine. Otherwise all necessary packages can be installed in a virtual environment (.venv) in VS Code using: Ctrl+Shift+P > Python: Create Environment > Venv > Python 3.12.x > requirements.txt\n"
   ]
  },
  {
   "cell_type": "code",
   "execution_count": null,
   "id": "2d081716",
   "metadata": {},
   "outputs": [],
   "source": [
    "import matplotlib.pyplot as plt\n",
    "from multiprocessing import Pool\n",
    "import os\n",
    "import time"
   ]
  },
  {
   "cell_type": "markdown",
   "id": "d88f8e7e",
   "metadata": {},
   "source": [
    "## 1. Execution in series\n",
    "\n",
    "We will begin with an example discussed in class - Calculating the squares of the first million integers.\n",
    "\n",
    "### 1.1 Import the functions\n",
    "\n",
    "Two simple functions have been written to do this: *square* and *slow_square* which will be discussed later in this notebook. These are included in the file *src/square.py*. \n",
    "\n",
    "<span style=\"color:orange;\">NOTE: To run a function in parallel inside a Jupyter Notebook, it needs to be in a separate .py file.</span>"
   ]
  },
  {
   "cell_type": "code",
   "execution_count": null,
   "id": "c0efe382",
   "metadata": {},
   "outputs": [],
   "source": [
    "from src.square import square, slow_square"
   ]
  },
  {
   "cell_type": "markdown",
   "id": "6ae1367d",
   "metadata": {},
   "source": [
    "Testing them out:"
   ]
  },
  {
   "cell_type": "code",
   "execution_count": null,
   "id": "26f3e6ad",
   "metadata": {},
   "outputs": [],
   "source": [
    "test_array = [1, 3, 5, 10]\n",
    "\n",
    "print (f\"The squares of the values {test_array} are:\")\n",
    "values = [] # initialize a list to store the results\n",
    "for i in test_array:\n",
    "    values.append(square(i))\n",
    "print (values)\n"
   ]
  },
  {
   "cell_type": "markdown",
   "id": "15beab70",
   "metadata": {},
   "source": [
    "### 1.2 Execution in a for loop\n",
    "\n",
    "Perform the calculation one-at-a-time using a standard for loop.\n",
    "\n",
    "We will also record how long the calculation takes. \n",
    "\n",
    "<span style=\"color:dodgerblue;\">This can be done using the standard library *time* module. To do this, you can record the time before executing the operation (*t<sub>0</sub>*) and after executing the operation (*t<sub>1</sub>*). This method is often used to help spot bottlenecks in code and improve optimization. This method is also used to time how long an EnergyPlus simulation takes.</span>"
   ]
  },
  {
   "cell_type": "code",
   "execution_count": null,
   "id": "ae57fbc8",
   "metadata": {},
   "outputs": [],
   "source": [
    "n = 1000000 # number of iterations\n",
    "\n",
    "values = [] # initialize a list to store the results\n",
    "\n",
    "t0 = time.time()\n",
    "for i in range(n):\n",
    "    values.append(square(i))\n",
    "t1 = time.time()\n",
    "t_series = (t1 - t0)\n",
    "\n",
    "print (f\"The time it took was {t_series:.4f} seconds\")"
   ]
  },
  {
   "cell_type": "markdown",
   "id": "2e8e4356",
   "metadata": {},
   "source": [
    "## 2. Execution in parallel\n",
    "\n",
    "Next, we will execute the same problem in parallel. For this we will use the Python standard library package <span style=\"color:orange;\"> multiprocessing </span> to achieve this. The <span style=\"color:orange;\">multiprocessing.Pool</span> method will generate a pool of workers for which simulations will be assigned. From there we will use the <span style=\"color:orange;\">starmap </span> method to run the square function in parallel.\n",
    "\n",
    "<span style=\"color:dodgerblue;\">Note that there are many ways to do parallelization in Python (eg. threading module). Parallelization and multi-threading is one of Python's inherent weaknesses - especially when compared with low-level languages like C or Fortran.</span>\n",
    "\n",
    "We will begin by using 2 processors in parallel and gradually increasing to the max on your machine.\n",
    "\n",
    "<span style=\"color:limegreen;\"> Before you begin, predict how much faster you expect using multiple processors to be based on your understanding of Amdahl's law</span>\n",
    "\n",
    "![Amdahls Law](src/images/Amdahls_Law.png)"
   ]
  },
  {
   "cell_type": "markdown",
   "id": "10adef12",
   "metadata": {},
   "source": [
    "### 2.1 Using 2 processors"
   ]
  },
  {
   "cell_type": "code",
   "execution_count": null,
   "id": "85657bc8",
   "metadata": {},
   "outputs": [],
   "source": [
    "# First we need to determine the numnber of CPU's or processors we want to use.\n",
    "# We will begin by using just 2 processors\n",
    "n_processors = 2\n",
    "\n",
    "# Create a list of inputs to the function.\n",
    "inputs = list(range(n))\n",
    "\n",
    "t0 = time.time()\n",
    "if __name__ == \"__main__\":\n",
    "    with Pool(processes = n_processors) as pool:\n",
    "        returnValues = pool.map(square, inputs)\n",
    "t1 = time.time()\n",
    "t_parallel2 = (t1 - t0)\n",
    "\n",
    "print (f\"The time it took was {t_parallel2:.4f} seconds\")"
   ]
  },
  {
   "cell_type": "markdown",
   "id": "9b6b0a36",
   "metadata": {},
   "source": [
    "### 2.2 Using 3 processors"
   ]
  },
  {
   "cell_type": "code",
   "execution_count": null,
   "id": "c2ce1643",
   "metadata": {},
   "outputs": [],
   "source": [
    "n_processors = 3\n",
    "\n",
    "t0 = time.time()\n",
    "if __name__ == \"__main__\":\n",
    "    with Pool(processes = n_processors) as pool:\n",
    "        returnValues = pool.map(square, inputs)\n",
    "t1 = time.time()\n",
    "t_parallel3 = (t1 - t0)\n",
    "\n",
    "print (f\"The time it took was {t_parallel3:.4f} seconds\")"
   ]
  },
  {
   "cell_type": "markdown",
   "id": "ac8b2017",
   "metadata": {},
   "source": [
    "### 2.3 Using 4 processors"
   ]
  },
  {
   "cell_type": "code",
   "execution_count": null,
   "id": "c192029a",
   "metadata": {},
   "outputs": [],
   "source": [
    "n_processors = 4\n",
    "\n",
    "t0 = time.time()\n",
    "if __name__ == \"__main__\":\n",
    "    with Pool(processes = n_processors) as pool:\n",
    "        returnValues = pool.map(square, inputs)\n",
    "t1 = time.time()\n",
    "t_parallel4 = (t1 - t0)\n",
    "\n",
    "print (f\"The time it took was {t_parallel4:.4f} seconds\")"
   ]
  },
  {
   "cell_type": "markdown",
   "id": "d09fd4b0",
   "metadata": {},
   "source": [
    "### 2.4 Using 6 processors"
   ]
  },
  {
   "cell_type": "code",
   "execution_count": null,
   "id": "03899694",
   "metadata": {},
   "outputs": [],
   "source": [
    "n_processors = 6\n",
    "\n",
    "t0 = time.time()\n",
    "if __name__ == \"__main__\":\n",
    "    with Pool(processes = n_processors) as pool:\n",
    "        returnValues = pool.map(square, inputs)\n",
    "t1 = time.time()\n",
    "t_parallel6 = (t1 - t0)\n",
    "\n",
    "print (f\"The time it took was {t_parallel6:.4f} seconds\")"
   ]
  },
  {
   "cell_type": "markdown",
   "id": "f1f11d94",
   "metadata": {},
   "source": [
    "### 2.5 Using all processors on your machine"
   ]
  },
  {
   "cell_type": "code",
   "execution_count": null,
   "id": "e623ef15",
   "metadata": {},
   "outputs": [],
   "source": [
    "# This function access your operating system data for the number of cpu on your machine\n",
    "n_processors = os.cpu_count()\n",
    "\n",
    "t0 = time.time()\n",
    "if __name__ == \"__main__\":\n",
    "    with Pool(processes = n_processors) as pool:\n",
    "        returnValues = pool.map(square, inputs)\n",
    "t1 = time.time()\n",
    "t_parallelAll = (t1 - t0)\n",
    "\n",
    "print (f\"The time it took was {t_parallelAll:.4f} seconds\")"
   ]
  },
  {
   "cell_type": "markdown",
   "id": "8ab7b2ee",
   "metadata": {},
   "source": [
    "## 3. Performance Analysis\n",
    "\n",
    "Draw a quick bar graph to compare performance"
   ]
  },
  {
   "cell_type": "code",
   "execution_count": null,
   "id": "9095ccc4",
   "metadata": {},
   "outputs": [],
   "source": [
    "# Create lists of labels and their values for the bar graph\n",
    "labels = [\"Series\", \"Parallel 2\", \"Parallel 3\", \"Parallel 4\", \"Parallel 6\", \"Parallel All\"]\n",
    "values = [t_series, t_parallel2, t_parallel3, t_parallel4, t_parallel6, t_parallelAll]\n",
    "\n",
    "fig, ax = plt.subplots()\n",
    "\n",
    "# Draw the bar graph for computational time\n",
    "ax.bar(labels, values, color = \"magenta\")\n",
    "ax.set_ylabel(\"Computation Time [s]\")\n",
    "\n",
    "ax.set_title (f\"{n} integers\")\n",
    "\n",
    "plt.show()\n"
   ]
  },
  {
   "cell_type": "markdown",
   "id": "55b3713e",
   "metadata": {},
   "source": [
    "The results will vary depending on the specs of your computer and may vary each time your run the code.\n",
    "\n",
    "**<span style=\"color:limegreen;\">Test your Understanding</span>**\n",
    "\n",
    "* <span style=\"color:lime;\">Are the results in alignment with your expectations of Amdahl's Law? </span>\n",
    "* <span style=\"color:lime;\">Can you explain any contradictions with Amdahl's Law? </span>\n"
   ]
  },
  {
   "cell_type": "markdown",
   "id": "cbb9e030",
   "metadata": {},
   "source": [
    "## 4. Execution with the 'Slow Square' Function\n",
    "\n",
    "Let's try to do the same exercise again, but use a different function called *slow_square* instead of the *square* function. This function is identical except it does some unnecessary calculations each time it is called - slowing it down.\n",
    "\n",
    "### 4.1 Execution in Series"
   ]
  },
  {
   "cell_type": "code",
   "execution_count": null,
   "id": "bc689bfe",
   "metadata": {},
   "outputs": [],
   "source": [
    "# First do the loop in series\n",
    "values = [] # initialize a list to store the results\n",
    "\n",
    "t0 = time.time()\n",
    "for i in range(n):\n",
    "    values.append(slow_square(i))\n",
    "t1 = time.time()\n",
    "t_series = (t1 - t0)\n",
    "\n",
    "print (f\"The time it took in series was {t_series:.4f} seconds\")\n"
   ]
  },
  {
   "cell_type": "markdown",
   "id": "8583e91b",
   "metadata": {},
   "source": [
    "### 4.2 Execution in Parallel"
   ]
  },
  {
   "cell_type": "code",
   "execution_count": null,
   "id": "de156b15",
   "metadata": {},
   "outputs": [],
   "source": [
    "n_processors = 2\n",
    "\n",
    "# Create a list of inputs to the function.\n",
    "inputs = list(range(1, n+1))\n",
    "\n",
    "t0 = time.time()\n",
    "if __name__ == \"__main__\":\n",
    "    with Pool(processes = n_processors) as pool:\n",
    "        returnValues = pool.map(slow_square, inputs)\n",
    "t1 = time.time()\n",
    "t_parallel2 = (t1 - t0)\n",
    "\n",
    "print (f\"The time it took with 2 processors was {t_parallel2:.4f} seconds\")\n",
    "\n",
    "\n",
    "n_processors = 3\n",
    "\n",
    "t0 = time.time()\n",
    "if __name__ == \"__main__\":\n",
    "    with Pool(processes = n_processors) as pool:\n",
    "        returnValues = pool.map(slow_square, inputs)\n",
    "t1 = time.time()\n",
    "t_parallel3 = (t1 - t0)\n",
    "\n",
    "print (f\"The time it took with 3 processors was {t_parallel3:.4f} seconds\")\n",
    "\n",
    "\n",
    "n_processors = 4\n",
    "\n",
    "t0 = time.time()\n",
    "if __name__ == \"__main__\":\n",
    "    with Pool(processes = n_processors) as pool:\n",
    "        returnValues = pool.map(square, inputs)\n",
    "t1 = time.time()\n",
    "t_parallel4 = (t1 - t0)\n",
    "\n",
    "print (f\"The time it took with 4 processors was {t_parallel4:.4f} seconds\")\n",
    "\n",
    "\n",
    "n_processors = 6\n",
    "\n",
    "t0 = time.time()\n",
    "if __name__ == \"__main__\":\n",
    "    with Pool(processes = n_processors) as pool:\n",
    "        returnValues = pool.map(square, inputs)\n",
    "t1 = time.time()\n",
    "t_parallel6 = (t1 - t0)\n",
    "\n",
    "print (f\"The time it took with 6 processors was {t_parallel6:.4f} seconds\")\n",
    "\n",
    "\n",
    "# This function access your operating system data for the number of cpu on your machine\n",
    "n_processors = os.cpu_count()\n",
    "\n",
    "t0 = time.time()\n",
    "if __name__ == \"__main__\":\n",
    "    with Pool(processes = n_processors) as pool:\n",
    "        returnValues = pool.map(square, inputs)\n",
    "t1 = time.time()\n",
    "t_parallelAll = (t1 - t0)\n",
    "\n",
    "print (f\"The time it took with all processors was {t_parallelAll:.4f} seconds\")"
   ]
  },
  {
   "cell_type": "markdown",
   "id": "0a2e0373",
   "metadata": {},
   "source": [
    "### 4.2 Performance Analysis"
   ]
  },
  {
   "cell_type": "code",
   "execution_count": null,
   "id": "7eaf2105",
   "metadata": {},
   "outputs": [],
   "source": [
    "# Create lists of labels and their values for the bar graph\n",
    "labels = [\"Series\", \"Parallel 2\", \"Parallel 3\", \"Parallel 4\", \"Parallel 6\", \"Parallel All\"]\n",
    "values = [t_series, t_parallel2, t_parallel3, t_parallel4, t_parallel6, t_parallelAll]\n",
    "\n",
    "fig, ax = plt.subplots()\n",
    "\n",
    "# Draw the bar graph for computational time\n",
    "ax.bar(labels, values, color = \"orange\")\n",
    "ax.set_ylabel(\"Computation Time [s]\")\n",
    "\n",
    "ax.set_title (f\"{n} integers\")\n",
    "\n",
    "plt.show()"
   ]
  },
  {
   "cell_type": "markdown",
   "id": "b1636b06",
   "metadata": {},
   "source": [
    "Once again, the results will vary depending on the specs of your computer and may vary each time your run the code.\n",
    "\n",
    "**<span style=\"color:limegreen;\">Test your Understanding</span>**\n",
    "\n",
    "* <span style=\"color:lime;\">Are the results in alignment with your expectations of Amdahl's Law? </span>\n",
    "\n",
    "<span style=\"color:dodgerblue;\">Every time we use parallelization in Python there is overhead to set up the inter-process communication between processors. For a quick calculation like the *square* function, this overhead does not rationalize parallelization. But for longer calculations like the *slow_square* function or for energyPlus simulations, the overhead cost diminishes proportionately.</span>"
   ]
  }
 ],
 "metadata": {
  "kernelspec": {
   "display_name": ".venv (3.12.8)",
   "language": "python",
   "name": "python3"
  },
  "language_info": {
   "codemirror_mode": {
    "name": "ipython",
    "version": 3
   },
   "file_extension": ".py",
   "mimetype": "text/x-python",
   "name": "python",
   "nbconvert_exporter": "python",
   "pygments_lexer": "ipython3",
   "version": "3.12.8"
  }
 },
 "nbformat": 4,
 "nbformat_minor": 5
}
