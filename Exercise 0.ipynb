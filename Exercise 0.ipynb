{
 "cells": [
  {
   "cell_type": "markdown",
   "id": "cc7b2783",
   "metadata": {},
   "source": [
    "# Exercise 0 - Installation\n",
    "\n",
    "This exercise is to be introduced during tutorial 1.\n",
    "\n",
    "The purpose of this exercise is to test out EnergyPlus on your computer, ensure all Python packages are working correctly and that as many bugs have been eliminated before we start using this tool in earnest beginning in Week 4. There is no expectation for you to understand every step in this notebook at this point.\n"
   ]
  },
  {
   "cell_type": "markdown",
   "id": "50e0db57",
   "metadata": {},
   "source": [
    "I will use the following colour codes throughout the module to emphasize information for the student.\n",
    "\n",
    "### Colour codes\n",
    "\n",
    "<span style=\"color:orange;\"> Orange text is for emphasis and definitions </span>\n",
    "\n",
    "<span style=\"color:lime;\"> Green text is for tasks to be completed by the student </span>\n",
    "\n",
    "<span style=\"color:dodgerblue;\"> Blue text is for Python coding tricks and references </span>\n",
    "\n",
    "Please look out for them when going through the code.\n"
   ]
  },
  {
   "cell_type": "markdown",
   "id": "5880d851",
   "metadata": {},
   "source": [
    "## Load all the necessary Python packages\n",
    "<span style=\"color:orange\"> All packages should work with Conda environment if installed on your machine. Otherwise all necessary packages can be installed in a virtual environment (.venv) in VS Code using: Ctrl+Shift+P > Python: Create Environment > Venv > Python 3.12.x > requirements.txt </span>"
   ]
  },
  {
   "cell_type": "code",
   "execution_count": null,
   "id": "6c367bae",
   "metadata": {},
   "outputs": [],
   "source": [
    "from src.runEnergyPlus import run_energyPlus\n",
    "from src.sampling import randomSampling\n",
    "from src.processResults import processHourlyResults, processResilienceResults\n",
    "\n",
    "\n",
    "import json\n",
    "import matplotlib.pyplot as plt\n",
    "\n",
    "from multiprocessing import Pool\n",
    "import os\n",
    "import pandas as pd\n",
    "from pathlib import Path\n"
   ]
  },
  {
   "cell_type": "markdown",
   "id": "0c3ceda6",
   "metadata": {},
   "source": [
    "## 1. Getting Started\n",
    "### 1.1 Enter the general parameters for this run.\n",
    "\n",
    "<span style=\"color:limegreen\">This cell contains all of the options you need to manually input for this exercise.<span>\n"
   ]
  },
  {
   "cell_type": "code",
   "execution_count": null,
   "id": "577a1532",
   "metadata": {},
   "outputs": [],
   "source": [
    "# Enter a save name for this run\n",
    "saveName = \"Exercise_0\"\n",
    "\n",
    "# Enter the path to the directory with your EnergyPlus executable. Enter the full path separated by commas.\n",
    "#NOTE: Need to use Pathlib:Path to enter the absolute path to avoid issues cross-platform compatibility issues.\n",
    "#NOTE: Enter each sub-directory as a tuple separated by commas. Note special characters required for drive letters\n",
    "\n",
    "ep_dir = Path(\"/usr\", \"local\", \"EnergyPlus-25-1-0\") # Example for Linux and Mac\n",
    "ep_dir = Path(\"c:\\\\\", \"EnergyPlusV25-1-0\") # Example For Windows\n",
    "\n",
    "# The weather file to be used for this batch of simulations. This file should be located in the src/weatherData/ directory.\n",
    "weatherFile = \"GBR_ENG_London.Wea.Ctr-St.James.Park.037700_TMYx.2009-2023.epw\"\n",
    "\n",
    "# The baseline file to be used for this simulation. This file should be located in the idfs/ directory\n",
    "idf_file = \"1-storey_baseline.idf\"\n",
    "\n",
    "# The parameters file to be used as part of this simulation\n",
    "parameters_file = \"Exercise 0.json\"\n",
    "\n",
    "# The maximum number of simulations to be run\n",
    "n_simulations = 16\n"
   ]
  },
  {
   "cell_type": "markdown",
   "id": "8d5309a6",
   "metadata": {},
   "source": [
    "This step creates the full paths for the energyPlus directory, idf file, and weather file and confirms they all exist. Else an exception will be created."
   ]
  },
  {
   "cell_type": "code",
   "execution_count": null,
   "id": "fb5cae49",
   "metadata": {},
   "outputs": [],
   "source": [
    "baseline_idf_path = Path(\"idfs\", idf_file)\n",
    "weather_file_path = Path(\"weatherData\", weatherFile)\n",
    "\n",
    "if not ep_dir.exists():\n",
    "    raise Exception (f\"Could not find energyPlus executable at {ep_dir}.\")\n",
    "if not baseline_idf_path.exists():\n",
    "    raise Exception (f\"Could not find idf_file at {baseline_idf_path}.\")\n",
    "if not weather_file_path.exists():\n",
    "    raise Exception (f\"Could not find weather_file at {weather_file_path}.\")\n",
    "\n",
    "print (f\"The EnergyPlus directory is: {ep_dir}.\")\n",
    "print (f\"The baseline idf file is: {baseline_idf_path}.\")\n",
    "print (f\"The weather file is: {weather_file_path}.\")\n"
   ]
  },
  {
   "cell_type": "markdown",
   "id": "befde4f7",
   "metadata": {},
   "source": [
    "## 2. Simulation parameters.\n",
    "Parameter files are the instructions on how each model will change upon each iteration. These instructions are located in the simulationParameters/ directory.\n",
    "\n",
    "The files are in JSON format. JSON files are similar in nature (but not the same) as Python's dictionary and list types.\n",
    "\n",
    "Putting the instructions in separate files allows us to quickly change and modify the simulation parameters for all the exercises throughout the course.\n",
    "\n",
    "The below code opens the json file and places into a Python dictionary."
   ]
  },
  {
   "cell_type": "code",
   "execution_count": null,
   "id": "819ce12e",
   "metadata": {},
   "outputs": [],
   "source": [
    "parameters_file_path = Path(\"simulationParameters\", parameters_file)\n",
    "\n",
    "if not parameters_file_path.exists():\n",
    "    raise Exception (f\"Could not find the parameters_file at {parameters_file_path}.\")\n",
    "\n",
    "with open (parameters_file_path) as f:\n",
    "    parameters = json.load(f)\n"
   ]
  },
  {
   "cell_type": "markdown",
   "id": "34bb7fe9",
   "metadata": {},
   "source": [
    "In this example we have 13 simulation parameters which are being modified. They are:"
   ]
  },
  {
   "cell_type": "code",
   "execution_count": null,
   "id": "f9de2cbf",
   "metadata": {},
   "outputs": [],
   "source": [
    "print (f\"Name                      TYPE        VALUES\")\n",
    "for k,v in parameters.items():\n",
    "    print (f\"{k:<26}{v['type']:<12}{v['values']}\")"
   ]
  },
  {
   "cell_type": "markdown",
   "id": "93502fe8",
   "metadata": {},
   "source": [
    "There are four types of variables that can be chosen:\n",
    "* constant: A single value that we want fixed for the run\n",
    "* float: This a two value list of values denoting the minimum and maximum range of values to be sampled from. The values sampled will be floats (decimals)\n",
    "* int: This a two value list of values denoting the minimum and maximum range of values to be sampled from. The values sampled will be always be integers, even if floats are given in the list.\n",
    "* categorical: This is a list of any length denoting a limited number of values from which to be sampled from\n",
    "\n",
    "In the above example the building has a constant length of 10m, a width of between 5 and 10m (integer values only), a height between 3 and 4m (decimal values), and categorical values for insulation in 25 mm (1 inch) increments. (NOTE: that in EnergyPlus, we can not give an insulation thickness of zero. Instead we give a very small value so as to have minimal impacts on the simulation)"
   ]
  },
  {
   "cell_type": "markdown",
   "id": "d8e65ac8",
   "metadata": {},
   "source": [
    "## 3. Generating Samples\n",
    "\n",
    "Lets generate a list of iterations using a random sampling method for each variable. This is done using the randomSampling function. See the function in src/sampling to understand how it works.\n",
    "\n",
    "Confirm that each variable has been sampled as expected.\n",
    "\n"
   ]
  },
  {
   "cell_type": "code",
   "execution_count": null,
   "id": "a49ddcff",
   "metadata": {},
   "outputs": [],
   "source": [
    "# Create a list of combinations of parameters stored in a dataframe format\n",
    "combinations = randomSampling(parameters, n_simulations)\n",
    "print (combinations)\n",
    "\n",
    "# Save the combinations as a csv\n",
    "savePath = Path(\"outputs\", \"combinations\", f\"combinations_{saveName}.csv\")\n",
    "combinations.to_csv(savePath)\n",
    "print (f\"Combinations dataframe saved to {savePath}.\")"
   ]
  },
  {
   "cell_type": "markdown",
   "id": "dea9ff37",
   "metadata": {},
   "source": [
    "## 4. Running EnergyPlus simulations in parallel\n",
    "In these steps we will run the EnergyPlus simulations in parallel using the multiprocessing Pool module. A function called starmap distributes simulations to be run to each thread by calling the runEnergyPlus() function with a tuple of appropriate inputs.\n",
    "\n",
    "### 4.1 Prepararation\n",
    "The first step is to prepare the combination dataframe above into the appropriate format to be passed to the runEnergyPlus function()."
   ]
  },
  {
   "cell_type": "code",
   "execution_count": null,
   "id": "4042c9a7",
   "metadata": {},
   "outputs": [],
   "source": [
    "# The parameters for each iteration need to be put into a list of tuples to pass to the multiprocessing pool starmap function\n",
    "\n",
    "# First convert the combinations dataframe into a list of dictionaries for each row of the dataframe. Example:\n",
    "\"\"\"\n",
    "[ \n",
    "    {'length': 10.0, 'width': 5.0, 'height': 3.152719, 'u_windows': 2.0},\n",
    "    {'length': 10.0, 'width': 9.0, 'height': 3.664094, 'u_windows': 3.0},\n",
    "    {'length': 10.0, 'width': 7.0, 'height': 3.393122, 'u_windows': 1.0},\n",
    "]\n",
    "\"\"\"\n",
    "inputs = combinations.to_dict(\"records\")\n",
    "\n",
    "# Convert the list of dictionaries into a list of tuples\n",
    "# The ep_dir and idf_path and weather file path need to be part of the tuple as well as an integer i to mark the simulation number.\n",
    "\"\"\"\n",
    "[ \n",
    "    (ep_dir, idf_path, weather_path, {'length': 10.0, 'width': 5.0, 'height': 3.152719, 'u_windows': 2.0}, 0),\n",
    "    (ep_dir, idf_path, weather_path, {'length': 10.0, 'width': 9.0, 'height': 3.664094, 'u_windows': 3.0}, 1),\n",
    "    (ep_dir, idf_path, weather_path, {'length': 10.0, 'width': 7.0, 'height': 3.393122, 'u_windows': 1.0}, 2),\n",
    "]\n",
    "\"\"\"\n",
    "\n",
    "inputs = [(ep_dir, baseline_idf_path, weather_file_path, inputs[i], i) for i in range(n_simulations)]\n"
   ]
  },
  {
   "cell_type": "markdown",
   "id": "4b388cce",
   "metadata": {},
   "source": [
    "### 4.2 Running in Parallel\n",
    "\n",
    "The second step is to run all the simulations with multiprocessing.\n",
    "\n",
    "<span style = \"color:orange\"> NOTE: </span> This step may take some time to finish. A simulation may take between 10 and 20 seconds to run depending on your computer. If you are run 50 simulations on 10 processors in parallel, expect 5 cycles lasting between 10 and 20 seconds --> it may take 50 to 100 seconds to complete."
   ]
  },
  {
   "cell_type": "code",
   "execution_count": null,
   "id": "c0e9626b",
   "metadata": {},
   "outputs": [],
   "source": [
    "# Run all of the simulations in parallel\n",
    "# Set up multiprocessing by first obtaining the number of processors on your machine.\n",
    "n_processors = os.cpu_count()\n",
    "\n",
    "print (f\"Preparing to run {n_simulations} EnergyPlus simulation in parallel using {n_processors} processors.\")\n",
    "\n",
    "if __name__ == \"__main__\":\n",
    "    with Pool(processes = n_processors) as pool:\n",
    "        returnValues = pool.starmap(run_energyPlus, inputs)\n",
    "\n",
    "print (f\"\\nFinished running all {n_simulations} simulations\")\n",
    "\n",
    "# Check if any simulations had errors\n",
    "errors = [x.args for x in returnValues if x.returncode == 1]\n",
    "if len(errors) > 0:\n",
    "    print (f\"The following {len(errors)} simulations had errors:\")\n",
    "    for error in errors:\n",
    "        print (f\"\\t{error}\")\n",
    "else:\n",
    "    print (\"All simulations completed successfully\")"
   ]
  },
  {
   "cell_type": "markdown",
   "id": "6abbc93a",
   "metadata": {},
   "source": [
    "<span style = \"color:orange\"> NOTE: </span> If using a Windows machine, progress updates from the run_energyPlus function are unavailable in Jupyter notebooks. You are able to tell if the simulations are running correctly if you see directories called *iteration_n* being generated in the iterations folder. Inside each directory is the energyplus file (.idf) and its results files (.csv)."
   ]
  },
  {
   "cell_type": "markdown",
   "id": "76abf87f",
   "metadata": {},
   "source": [
    "### 4.3 Collecting Results\n",
    "\n",
    "The third step is to collect all of the necessary results from the EnergyPlus output files (eplustbl.csv and eplusout.csv).\n",
    "\n",
    "We define a function called processHourlyResults which will collect all of the data of interest from the EnergyPlus Files. At this preliminary stage, we are just collecting basic energy and indoor temperature data, but there is scope to modify this function and analyze different data from the results file or perform some post-processing."
   ]
  },
  {
   "cell_type": "code",
   "execution_count": null,
   "id": "a0679e0f",
   "metadata": {},
   "outputs": [],
   "source": [
    "hourlyResults = []\n",
    "resilienceResults = []\n",
    "for i in range(n_simulations):\n",
    "    # Get the hourly results\n",
    "    results_path = Path(\"iterations\", f\"iteration_{i}\", \"eplusout.csv\")\n",
    "    hourlyResults.append (processHourlyResults(results_path))\n",
    "\n",
    "    # Get the resilience metrics results\n",
    "    results_path = Path(\"iterations\", f\"iteration_{i}\", \"eplustbl.csv\")\n",
    "    resilienceResults.append(processResilienceResults(results_path))\n",
    "\n",
    "\n",
    "# Putting both the results dictionaries into a dataframe and concatenating them together\n",
    "df = pd.DataFrame(hourlyResults)\n",
    "df2 = pd.DataFrame(resilienceResults)\n",
    "\n",
    "df = pd.concat([df, df2], axis = 1)\n",
    "\n",
    "# Save the results file as a csv\n",
    "savePath = Path(\"outputs\", \"results\", f\"results_Exercise_0.csv\")\n",
    "df.to_csv(savePath)\n",
    "\n",
    "print (f\"results dataframe saved to {savePath}.\")"
   ]
  },
  {
   "cell_type": "markdown",
   "id": "e46ce5ef",
   "metadata": {},
   "source": [
    "Collect the information in a for loop and combine into a dataframe."
   ]
  },
  {
   "cell_type": "markdown",
   "id": "584151cf",
   "metadata": {},
   "source": [
    "## 5. Analyzing the Results\n",
    "The next step is to analyze the results. Here is a quite snippet plotting two objective functions: *heatingSum* and *temperature>25C* colour-coded by the variable *wwr*.\n",
    "\n",
    "The nature of the analysis will change week-to-week."
   ]
  },
  {
   "cell_type": "code",
   "execution_count": null,
   "id": "d92e58e7",
   "metadata": {},
   "outputs": [],
   "source": [
    "fig, ax = plt.subplots()\n",
    "scatter = ax.scatter(df[\"heatingSum\"] / 10**9, df[\"temperature>25C\"], s = 35, c = combinations.wwr, vmin = 0, vmax = 1, linewidths = 0.5, edgecolors = \"black\")\n",
    "\n",
    "ax.set_xlabel (\"Annual heating demand [MJ]\")\n",
    "ax.set_ylabel (\"Hours where temperature > 25 C\")\n",
    "\n",
    "cbar = plt.colorbar(scatter)\n",
    "cbar.ax.set_ylabel(\"window-to-wall ratio\")\n",
    "\n",
    "fig.set_figwidth(6)\n",
    "fig.set_figheight(5)\n",
    "fig.tight_layout()\n",
    "\n",
    "# Save the file in svg (vector) format\n",
    "filePath = Path(\"outputs\", \"images\", \"Lecture 0_TestImage.svg\")\n",
    "plt.savefig(filePath, format = \"svg\")\n",
    "print (f\"results dataframe saved to {filePath}.\")\n",
    "\n",
    "plt.show()\n"
   ]
  },
  {
   "cell_type": "markdown",
   "id": "02126200",
   "metadata": {},
   "source": [
    "## 6. Conclusion\n",
    "\n",
    "If all steps have completed correctly you should be good to go for the rest of the term beginning in Week 4. \n",
    "\n",
    "You can delete all the contents of the iterations folder.\n",
    "\n",
    "<span style=\"color:orange\">Be sure to pull the latest updates as course material will be added week-by-week. <span>"
   ]
  }
 ],
 "metadata": {
  "kernelspec": {
   "display_name": ".venv (3.12.9)",
   "language": "python",
   "name": "python3"
  },
  "language_info": {
   "codemirror_mode": {
    "name": "ipython",
    "version": 3
   },
   "file_extension": ".py",
   "mimetype": "text/x-python",
   "name": "python",
   "nbconvert_exporter": "python",
   "pygments_lexer": "ipython3",
   "version": "3.12.9"
  }
 },
 "nbformat": 4,
 "nbformat_minor": 5
}
