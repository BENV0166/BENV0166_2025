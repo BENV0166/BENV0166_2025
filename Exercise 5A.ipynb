{
 "cells": [
  {
   "cell_type": "markdown",
   "id": "a929e17a",
   "metadata": {},
   "source": [
    "# Exercise 5A - Inverse Models\n",
    "\n",
    "Intorduced during Tutorial 5\n",
    "\n",
    "The purpose of this exercise is to construct a simple inverse (black-box) model which can predict energy consumption using linear regression. We will then analyze the results and determine its meaning.\n",
    "\n",
    "These types of models typically use monthly HDD as the independent variable and the monthly energy consumption as the dependent variable. These can be used to establish a building's overall <span style=\"color:orange\">heat loss coefficients [W/K]</span> and <span style=\"color:orange\">base loads (domestic hot water, cooking, plug loads, etc) for energy consumption.</span>\n",
    "\n",
    "### Colour codes\n",
    "\n",
    "<span style=\"color:orange;\"> Orange text is for emphasis and definitions </span>\n",
    "\n",
    "<span style=\"color:lime;\"> Green text is for tasks to be completed by the student </span>\n",
    "\n",
    "<span style=\"color:dodgerblue;\"> Blue text is for Python coding tricks and references </span>"
   ]
  },
  {
   "cell_type": "markdown",
   "id": "c0f67c05",
   "metadata": {},
   "source": [
    "## Load all the necessary Python packages\n",
    "All packages should work with Conda environment if installed on your machine. Otherwise all necessary packages can be installed in a virtual environment (.venv) in VS Code using: Ctrl+Shift+P > Python: Create Environment > Venv > Python 3.12.x > requirements.txt\n"
   ]
  },
  {
   "cell_type": "code",
   "execution_count": null,
   "id": "e409324d",
   "metadata": {},
   "outputs": [],
   "source": [
    "import matplotlib.dates as mdates\n",
    "import matplotlib.pyplot as plt\n",
    "import numpy as np\n",
    "import pandas as pd\n",
    "from pathlib import Path\n",
    "from sklearn.metrics import r2_score\n"
   ]
  },
  {
   "cell_type": "markdown",
   "id": "d7838c51",
   "metadata": {},
   "source": [
    "## 1. Load the dataset\n",
    "\n",
    "Two years worth of monthly gas bills were provided by a building owner. Units are in MJ. The building uses gas for space heating, and for domestic hot water and cooking.\n",
    "\n",
    "In addition the heating degree days for those months have been pre-calculated."
   ]
  },
  {
   "cell_type": "code",
   "execution_count": null,
   "id": "1da6f90b",
   "metadata": {},
   "outputs": [],
   "source": [
    "df = pd.read_csv(Path(\"supplementaryData\", \"EnergyBillSummary.csv\"))\n",
    "df[\"Date\"] = pd.to_datetime(df[\"Date\"].str.strip(), format = \"%Y-%m-%d\")\n",
    "print (\"The data for the building is as shown:\")\n",
    "print (df)"
   ]
  },
  {
   "cell_type": "markdown",
   "id": "c2dbf569",
   "metadata": {},
   "source": [
    "### 1.1 Month by Month Plot\n",
    "Plot the data as a monthly time-series for quick comparison."
   ]
  },
  {
   "cell_type": "code",
   "execution_count": null,
   "id": "84d34568",
   "metadata": {},
   "outputs": [],
   "source": [
    "# Initialize a plot.\n",
    "# Label the axes as 'ax1' because we will need to switch to a second set of axis on the right\n",
    "fig, ax1 = plt.subplots()\n",
    "\n",
    "# Draw the bar graph for energy consumption\n",
    "ax1.bar(df[\"Date\"], df[\"Gas Consumption [MJ]\"], color = \"red\", width = 20, label = \"Gas Consumption\")\n",
    "ax1.set_ylabel(\"Monthly Gas Consumption [MJ]\")\n",
    "\n",
    "# Format the date time axis ticks to show every other month and rotate the text\n",
    "ax1.xaxis.set_major_formatter(mdates.DateFormatter(\"%b-%Y\"))\n",
    "ax1.set_xticks(df[\"Date\"][::2])\n",
    "ax1.xaxis.set_tick_params(rotation=45, pad = 0) \n",
    "\n",
    "# Switch from the left axis to the right axis\n",
    "ax2 = ax1.twinx()\n",
    "\n",
    "# Draw the line graph for degree-days\n",
    "ax2.plot(df[\"Date\"], df[\"HDD\"], color = \"blue\", linewidth = 3, label = \"HDD\")\n",
    "ax2.set_ylabel(\"Monthly HDD\")\n",
    "\n",
    "# Collect the labels for each axis and create a legend\n",
    "lines, labels = ax1.get_legend_handles_labels()\n",
    "lines2, labels2 = ax2.get_legend_handles_labels()\n",
    "ax2.legend(lines + lines2, labels + labels2, loc = \"upper right\")\n",
    "\n",
    "# Format the graph\n",
    "fig.set_figheight(4)\n",
    "fig.set_figwidth(8)\n",
    "\n",
    "plt.show()"
   ]
  },
  {
   "cell_type": "markdown",
   "id": "a3f1db6b",
   "metadata": {},
   "source": [
    "* <span style=\"color:limegreen;\">Do you notice any trends appearing between monthly energy consumption and heating degree-days? </span>\n",
    "* <span style=\"color:limegreen;\">How strong would you say that trend is? </span>"
   ]
  },
  {
   "cell_type": "markdown",
   "id": "ef039e88",
   "metadata": {},
   "source": [
    "### 1.2 Scatter Plot of the Data\n",
    "\n",
    "Now let's plot this data as a scatter plot and notice if any trends appear, and if so, are they any different than what you noticed in the previous step."
   ]
  },
  {
   "cell_type": "code",
   "execution_count": null,
   "id": "2792c333",
   "metadata": {},
   "outputs": [],
   "source": [
    "fig, ax = plt.subplots()\n",
    "\n",
    "# Draw the bar graph for energy consumption\n",
    "ax.scatter(df[\"HDD\"], df[\"Gas Consumption [MJ]\"], c = \"red\", s = 15)\n",
    "\n",
    "ax.set_xlabel(\"Monthly HDD\")\n",
    "ax.set_ylabel(\"Monthly Gas Consumption [MJ]\")\n",
    "\n",
    "plt.show()"
   ]
  },
  {
   "cell_type": "markdown",
   "id": "5c5b9d57",
   "metadata": {},
   "source": [
    "Look at the axes. Why can this graph be misleading? \n",
    "\n",
    "<span style = \"color:dodgerblue;\">We can control how matplotlib and other plotting tools present the axis. Here, I want to ensure that the axes intersect at zero, and I prefer that the axis end on a tick mark. We will edit these with the matplotlib methods ax.set_xlim() and ax.set_xticks() in the next step. Simple things like this are a good way to improve the quality of your figures.</span>\n",
    "\n",
    "### 1.3 Linear Regression\n",
    "\n",
    "Next we will redraw the graph, but also include a line of best fit and include the equation.\n",
    "\n",
    "First calculate the equation of the regression line. We will use a numpy function called polyfit (polynomial fit) with a degree of 1."
   ]
  },
  {
   "cell_type": "code",
   "execution_count": null,
   "id": "24bb2145",
   "metadata": {},
   "outputs": [],
   "source": [
    "# m is the slope and b is the intercept\n",
    "m, b = np.polyfit(df[\"HDD\"], df[\"Gas Consumption [MJ]\"], 1)\n",
    "\n",
    "# Calculate the predict y value of this equation and the coefficient of determination (r^2).\n",
    "y_predict = m * df[\"HDD\"] + b\n",
    "\n",
    "r2 = r2_score( df[\"Gas Consumption [MJ]\"], y_predict)\n",
    "\n",
    "print (f\"The equation for this line is y = {m:.4f}x + {b:.4f}.\")\n",
    "print (f\"The r^2 value is {r2:.4f}\")"
   ]
  },
  {
   "cell_type": "code",
   "execution_count": null,
   "id": "afafa262",
   "metadata": {},
   "outputs": [],
   "source": [
    "fig, ax = plt.subplots()\n",
    "\n",
    "# Draw the bar graph for energy consumption\n",
    "ax.scatter(df[\"HDD\"], df[\"Gas Consumption [MJ]\"], c = \"red\", s = 15)\n",
    "\n",
    "# Create arrays for the line of best fit\n",
    "x_ = [0, df[\"HDD\"].max()]\n",
    "y_ = [b, m * df[\"HDD\"].max() + b]\n",
    "\n",
    "# Plot the line of best fit\n",
    "ax.plot(x_, y_, color = \"navy\")\n",
    "\n",
    "ax.set_xlabel(\"Monthly HDD\")\n",
    "ax.set_ylabel(\"Monthly Gas Consumption [MJ]\")\n",
    "\n",
    "# Format the x and y axis ticks\n",
    "# Create an array of the values we want ticks to appear at using the numpy arange function\n",
    "# Here we want the x axis in intervals of 100 and the y-axis in intervals of 100\n",
    "# The +100, or +1000 tells numpy to stop at the interval above the maximum value\n",
    "x_ticks = np.arange(0, df[\"HDD\"].max() + 100, 100)\n",
    "y_ticks = np.arange(0, df[\"Gas Consumption [MJ]\"].max() + 1000, 1000)\n",
    "ax.set_xticks (x_ticks)\n",
    "ax.set_yticks (y_ticks)\n",
    "\n",
    "ax.set_xlim(-25, x_ticks.max() + 25) # Can leave a small buffer (of 25) on either side of the x-axis so dots are displayed entirely\n",
    "ax.set_ylim(0, y_ticks.max())\n",
    "\n",
    "# Add a grid to help us interpolate the values on the plot\n",
    "ax.grid(linestyle = \":\", color = \"gray\", linewidth = 0.4)\n",
    "\n",
    "# Create an annotation with the equation and r^2 value in the top left\n",
    "plt.text (0.1, 0.9, f\"y = {m:.4f}x + {b:.4f}\\n$r^2$ = {r2:.4f}\", transform = ax.transAxes, va = \"top\")\n",
    "\n",
    "plt.show()"
   ]
  },
  {
   "cell_type": "markdown",
   "id": "cafd8175",
   "metadata": {},
   "source": [
    "## 2. Test your understanding\n",
    "From the results above, can you answer the following:\n",
    "\n",
    "* <span style = \"color:limegreen;\"> What is the monthly and annual base gas consumption of this building? </span>\n",
    "* <span style = \"color:limegreen;\"> What is the annual heating load for gas consumption? </span>\n",
    "    * <span style = \"color:limegreen;\"> Hint, You will need to convert the heat loss coefficient into units of energy similar to Question 2 of your coursework.</span>\n",
    "* <span style = \"color:limegreen;\"> If the building owner were to a hot water tank and cooking appliances which were 25% more efficient. How would the equation change? </span>\n",
    "* <span style = \"color:limegreen;\"> Likewise, if the building owner were to perform envelope upgrades (walls, windows, roof, ground, ventilation) which combined made the envelope 25% more efficient, how would the equation change? </span>\n",
    "* <span style = \"color:limegreen;\"> What could explain the deviations between the measured and predicted values? </span>\n",
    "* <span style = \"color:limegreen;\"> Would you be able to do the same procedure for an all electric building? </span>"
   ]
  }
 ],
 "metadata": {
  "kernelspec": {
   "display_name": ".venv (3.12.8)",
   "language": "python",
   "name": "python3"
  },
  "language_info": {
   "codemirror_mode": {
    "name": "ipython",
    "version": 3
   },
   "file_extension": ".py",
   "mimetype": "text/x-python",
   "name": "python",
   "nbconvert_exporter": "python",
   "pygments_lexer": "ipython3",
   "version": "3.12.8"
  }
 },
 "nbformat": 4,
 "nbformat_minor": 5
}
