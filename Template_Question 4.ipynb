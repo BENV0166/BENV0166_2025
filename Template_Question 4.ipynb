{
 "cells": [
  {
   "cell_type": "markdown",
   "id": "c745924d",
   "metadata": {},
   "source": [
    "# Coursework Question 4\n",
    "\n",
    "Use this notebook as a template for Question 4 - Multi-objective Optimization of Coursework 1.\n",
    "\n",
    "<span style = \"color:limegreen;\"> Before beginning I would suggest making a copy of this file to avoid any Git conflicts!</span>\n",
    "\n",
    "**Question**\n",
    "\n",
    "An architect has asked you determine what the optimize the design parameters for the window assemblies on a building they are designing. The proposed building is highly glazed, naturally ventilated and in a temperate climate. The design parameters which can be varied are the window-to-wall ratio, depth of the fixed shading, and the u and g-values of the window assembly. The values that they have asked you to optimize are:\n",
    "\n",
    "<ol type=\"a\">\n",
    "  <li>Heating energy demand</li>\n",
    "  <li>Interior lighting energy usage </li>\n",
    "  <li>Overheating risk</li>\n",
    "</ol>\n",
    "\n",
    "You have already performed a number of simulations and retrieved all of the necessary outputs. Your task is to use **both** the pareto front and weighted-sum methods to determine what the optimum design solutions are to this multi-objective problem.\n",
    "\n",
    "For both methods, Compare the three sets of bi-objective optimizations (a and b; a and c; b and c) and the one tri-objective problem (a, b, and c). When using the weighted-sum first assume that each objective has equal weighting.\n",
    "\n",
    "Discuss the results of your analysis. What were the optimal solutions returned? Compare the results of the weighted sum method to the pareto front approach, and the results of each combination of objective. Comment on which you think is the best approach and why and any adjustments you would make to the procedure."
   ]
  },
  {
   "cell_type": "markdown",
   "id": "1c4ef61f",
   "metadata": {},
   "source": [
    "## Load all of the necessary Python packages\n",
    "All packages should work with Conda environment if installed on your machine. Otherwise all necessary packages can be installed in a virtual environment (.venv) in VS Code using: Ctrl+Shift+P > Python: Create Environment > Venv > Python 3.12.x > requirements.txt\n",
    "\n",
    "<span style=\"color:orange;\"> NOTE: that we are using the paretoset package will be used. You may need to install this package using pip.</span>"
   ]
  },
  {
   "cell_type": "code",
   "execution_count": null,
   "id": "b61d27a5",
   "metadata": {},
   "outputs": [],
   "source": [
    "import matplotlib.pyplot as plt\n",
    "import pandas as pd\n",
    "import paretoset\n",
    "from pathlib import Path\n"
   ]
  },
  {
   "cell_type": "markdown",
   "id": "29ab7512",
   "metadata": {},
   "source": [
    "## 1. Load the data.\n",
    "\n",
    "The data is located in *outputs/dataset_Coursework_Question4.csv.\n"
   ]
  },
  {
   "cell_type": "code",
   "execution_count": null,
   "id": "1a75d992",
   "metadata": {},
   "outputs": [],
   "source": [
    "savePath = Path(\"supplementaryData\", \"dataset_Coursework_Question4.csv.\")\n",
    "\n",
    "df = pd.read_csv(savePath, index_col = 0)\n"
   ]
  },
  {
   "cell_type": "markdown",
   "id": "ea31eb21",
   "metadata": {},
   "source": [
    "### 1.1 Convert the raw data into more practical units\n",
    "The data should contain four columns with building attributes (U-value of windows, g-value of windows, WWR, and the fixed shading depth) plus four columns of performance data. These are the annual sums of lighting and heating energy usage, the peak heating load, and the number of hours above 28C inside the building.\n",
    "\n",
    "<span style=\"color:orange;\"> Remember that EnergyPlus outputs are in base SI units. </span>\n",
    "\n",
    "* lightingSum is given in Joules. Convert --> MJ\n",
    "* heatingSum is given in Joules. Convert --> MJ\n",
    "* heatingMax is given in Watts. Convert --> kW\n",
    "* temperature>28C is given in hours.\n",
    "\n",
    "NOTE: That we won't be using the output *heatingMax* for this exercise."
   ]
  },
  {
   "cell_type": "code",
   "execution_count": null,
   "id": "ac726e30",
   "metadata": {},
   "outputs": [],
   "source": [
    "df[\"heatingSum\"] /= 10**6\n",
    "df[\"heatingMax\"] /= 10**3\n",
    "df[\"lightingSum\"] /= 10**6\n",
    "\n",
    "print (\"The first 10 rows of the dataframe look like this.\")\n",
    "print (df.head(10))"
   ]
  },
  {
   "cell_type": "markdown",
   "id": "ffbe137c",
   "metadata": {},
   "source": [
    "## 2. Analysis\n",
    "\n",
    "<span style=\"color:limegreen;\"> Complete the following analysis sections. You can re-use the code in exercise 4A and 4B to help complete the analysis.</span>"
   ]
  },
  {
   "cell_type": "markdown",
   "id": "595cd85d",
   "metadata": {},
   "source": [
    "### 2.1 Pareto Front Analysis\n",
    "\n",
    "<span style=\"color:limegreen;\"> Perform the pareto front analysis for the three bi-objective problems and the tri-objective problems here. You are free to improve upon the analysis and visualisations too.</span>"
   ]
  },
  {
   "cell_type": "markdown",
   "id": "2b94e24c",
   "metadata": {},
   "source": [
    "#### 2.1.1 Heating and Lighting"
   ]
  },
  {
   "cell_type": "markdown",
   "id": "f6ae2228",
   "metadata": {},
   "source": [
    "#### 2.1.1 Heating and Lighting"
   ]
  },
  {
   "cell_type": "code",
   "execution_count": null,
   "id": "674f4b78",
   "metadata": {},
   "outputs": [],
   "source": [
    "# Add code here"
   ]
  },
  {
   "cell_type": "markdown",
   "id": "d651deeb",
   "metadata": {},
   "source": [
    "#### 2.1.2 Heating and Overheating"
   ]
  },
  {
   "cell_type": "code",
   "execution_count": null,
   "id": "edaff30d",
   "metadata": {},
   "outputs": [],
   "source": [
    "# Add code here"
   ]
  },
  {
   "cell_type": "markdown",
   "id": "7c12745b",
   "metadata": {},
   "source": [
    "#### 2.1.3 Overheating and Lighting"
   ]
  },
  {
   "cell_type": "code",
   "execution_count": null,
   "id": "4aacce4d",
   "metadata": {},
   "outputs": [],
   "source": [
    "# Add code here"
   ]
  },
  {
   "cell_type": "markdown",
   "id": "e1e6b38f",
   "metadata": {},
   "source": [
    "#### 2.1.4 Heating, Lighting, and Overheating"
   ]
  },
  {
   "cell_type": "code",
   "execution_count": null,
   "id": "7aa3161d",
   "metadata": {},
   "outputs": [],
   "source": [
    "# Add code here"
   ]
  },
  {
   "cell_type": "markdown",
   "id": "9b4f98c4",
   "metadata": {},
   "source": [
    "### 2.2 Weighted Sum Analysis"
   ]
  },
  {
   "cell_type": "markdown",
   "id": "74f97f5a",
   "metadata": {},
   "source": [
    "#### 2.2.1 Heating and Lighting"
   ]
  },
  {
   "cell_type": "code",
   "execution_count": null,
   "id": "c2bf7e2f",
   "metadata": {},
   "outputs": [],
   "source": [
    "# Add code here"
   ]
  },
  {
   "cell_type": "markdown",
   "id": "339a2b00",
   "metadata": {},
   "source": [
    "#### 2.2.2 Heating and Overheating"
   ]
  },
  {
   "cell_type": "code",
   "execution_count": null,
   "id": "204bc69c",
   "metadata": {},
   "outputs": [],
   "source": [
    "# Add code here"
   ]
  },
  {
   "cell_type": "markdown",
   "id": "69d81960",
   "metadata": {},
   "source": [
    "#### 2.2.3 Overheating and Lighting"
   ]
  },
  {
   "cell_type": "code",
   "execution_count": null,
   "id": "b6a3004e",
   "metadata": {},
   "outputs": [],
   "source": [
    "# Add code here"
   ]
  },
  {
   "cell_type": "markdown",
   "id": "78bd7bc0",
   "metadata": {},
   "source": [
    "#### 2.2.4 Heating, Lighting, and Overheating"
   ]
  },
  {
   "cell_type": "code",
   "execution_count": null,
   "id": "f4dbb87e",
   "metadata": {},
   "outputs": [],
   "source": [
    "# Add code here"
   ]
  },
  {
   "cell_type": "markdown",
   "id": "69b99078",
   "metadata": {},
   "source": [
    "### 3. Additional analysis (optional)"
   ]
  },
  {
   "cell_type": "code",
   "execution_count": null,
   "id": "39707d73",
   "metadata": {},
   "outputs": [],
   "source": [
    "# Add code here"
   ]
  }
 ],
 "metadata": {
  "kernelspec": {
   "display_name": ".venv (3.12.8)",
   "language": "python",
   "name": "python3"
  },
  "language_info": {
   "codemirror_mode": {
    "name": "ipython",
    "version": 3
   },
   "file_extension": ".py",
   "mimetype": "text/x-python",
   "name": "python",
   "nbconvert_exporter": "python",
   "pygments_lexer": "ipython3",
   "version": "3.12.8"
  }
 },
 "nbformat": 4,
 "nbformat_minor": 5
}
