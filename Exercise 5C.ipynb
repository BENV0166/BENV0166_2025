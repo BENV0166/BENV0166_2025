{
 "cells": [
  {
   "cell_type": "markdown",
   "id": "1aebf063",
   "metadata": {},
   "source": [
    "# Exercise 5C - Working with EnergyPlus and Python\n",
    "\n",
    "Introduced in Tutorial 5\n",
    "\n",
    "The purpose of this exercise is to show you how EnergyPlus simulations can be automated with Python. We will learn how to launch EnergyPlus through a command line prompt, modify the EnergyPlus input file (idf), and automate the generation of different iterations of that file. These lessons form the basis for the EnergyPlus scripts we will use in the second half of the course.\n",
    "\n",
    "### Colour codes\n",
    "\n",
    "<span style=\"color:orange;\"> Orange text is for emphasis and definitions </span>\n",
    "\n",
    "<span style=\"color:lime;\"> Green text is for tasks to be completed by the student </span>\n",
    "\n",
    "<span style=\"color:dodgerblue;\"> Blue text is for Python coding tricks and references </span>"
   ]
  },
  {
   "cell_type": "markdown",
   "id": "fc676050",
   "metadata": {},
   "source": [
    "## Load all the necessary Python packages\n",
    "All packages should work with Conda environment if installed on your machine. Otherwise all necessary packages can be installed in a virtual environment (.venv) in VS Code using: Ctrl+Shift+P > Python: Create Environment > Venv > Python 3.12.x > requirements.txt"
   ]
  },
  {
   "cell_type": "code",
   "execution_count": null,
   "id": "480347ef",
   "metadata": {},
   "outputs": [],
   "source": [
    "import matplotlib.pyplot as plt\n",
    "import os\n",
    "import pandas as pd\n",
    "from pathlib import Path\n",
    "import subprocess\n",
    "import time"
   ]
  },
  {
   "cell_type": "markdown",
   "id": "b570cc84",
   "metadata": {},
   "source": [
    "## 1. Getting Started\n",
    "### 1.1 Enter the general parameters for this run.\n",
    "\n",
    "<span style=\"color:limegreen;\"> This cell contains editable options for running EnergyPlus in this course. Please familiarise yourself with them and what they mean. You should not have to change any of them for this Exercise_5C, but may need to change them in the future.</span>\n",
    "\n",
    "* **saveName**: Append this to any results file or images. You will want to edit to change these for each unique run and notebook.\n",
    "* **ep_dir**: This is the directory the EnergyPlus executable is in. Select the correct format depending on whether you use Windows or Mac/Linux. The path may be different depending on whether you chose to install EnergyPlus. \n",
    "    * <span style=\"color:orange;\">NOTE: Enter the path to the directory using the Pathlib.Path format as shown. This helps to avoid any cross-platform compatibility issues. Enter each sub-directory as a tuple separated by commas. Note the special characters required for drive letters. </span>\n",
    "* **weatherFile**: The epw format weather file which will be used in the simulation. These need to be located in the *src/weatherData/* directory\n",
    "* **idf_file**: The energyPlus input file in idf format. These need to be located in the */idfs/* directory\n",
    "* **parameters_file**: This is a json file which tells us the range of values we want to use for each parameter in a batch simulation. These need to be located in the */simulationParameters/* directory. We will not be using these until Tutorial 6.\n",
    "* **n_simulations**: The maximum number of simulations to run. I have set to None for this example.\n"
   ]
  },
  {
   "cell_type": "code",
   "execution_count": null,
   "id": "b17ee968",
   "metadata": {},
   "outputs": [],
   "source": [
    "# Enter a save name for this run\n",
    "saveName = \"Exercise_5C\"\n",
    "\n",
    "# Enter the path to the directory with your EnergyPlus executable. Enter the full path separated by commas.\n",
    "#NOTE: Need to use Pathlib:Path to enter the absolute path to avoid issues cross-platform compatibility issues.\n",
    "#NOTE: Enter each sub-directory as a tuple separated by commas. Note special characters required for drive letters\n",
    "\n",
    "ep_dir = Path(\"/usr\", \"local\", \"EnergyPlus-25-1-0\") # Example for Linux and Mac\n",
    "ep_dir = Path(\"c:\\\\\", \"EnergyPlusV25-1-0\") # Example For Windows\n",
    "\n",
    "# The weather file to be used for this batch of simulations. This file should be located in the src/weatherData/ directory.\n",
    "weatherFile = \"GBR_ENG_London.Wea.Ctr-St.James.Park.037700_TMYx.2009-2023.epw\"\n",
    "\n",
    "# The baseline file to be used for this simulation. This file should be located in the idfs/ directory\n",
    "idf_file = \"1-storey_Example5C.idf\"\n",
    "\n",
    "# The parameters file to be used as part of this simulation\n",
    "parameters_file = \"Exercise 5C.json\"\n",
    "\n",
    "# The maximum number of simulations to be run\n",
    "n_simulations = None\n"
   ]
  },
  {
   "cell_type": "markdown",
   "id": "359050ad",
   "metadata": {},
   "source": [
    "This step creates the full paths for the energyPlus directory, idf file, and weather file and confirms they all exist. Else an exception will be created."
   ]
  },
  {
   "cell_type": "code",
   "execution_count": null,
   "id": "d9bfb2b9",
   "metadata": {},
   "outputs": [],
   "source": [
    "idf_path = Path(\"idfs\", idf_file)\n",
    "weather_file_path = Path(\"weatherData\", weatherFile)\n",
    "\n",
    "if not ep_dir.exists():\n",
    "    raise Exception (f\"Could not find energyPlus executable at {ep_dir}.\")\n",
    "if not idf_path.exists():\n",
    "    raise Exception (f\"Could not find idf_file at {idf_path}.\")\n",
    "if not weather_file_path.exists():\n",
    "    raise Exception (f\"Could not find weather_file at {weather_file_path}.\")\n",
    "\n",
    "print (f\"The EnergyPlus directory is: {ep_dir}.\")\n",
    "print (f\"The baseline idf file is: {idf_path}.\")\n",
    "print (f\"The weather file is: {weather_file_path}.\")"
   ]
  },
  {
   "cell_type": "markdown",
   "id": "f84322e7",
   "metadata": {},
   "source": [
    "### 1.2 IDF Files\n",
    "\n",
    "EnergyPlus IDF files are plain-text files which contain all the data describing the building (HVAC, geometry, schedules, material properties etc.). These can be created and edited manually in any text editor, through EnergyPlus' IDF editor, or through a third-party tool such as OpenStudio or Design Builder. We can also edit them programmatically as will be demonstrated.\n",
    "\n",
    "The IDF's we will be using are in the IDF directory. You can open them in VS Code to see how they are structured.\n",
    "\n",
    "The current files in that directory are:"
   ]
  },
  {
   "cell_type": "code",
   "execution_count": null,
   "id": "7467b434",
   "metadata": {},
   "outputs": [],
   "source": [
    "for f in Path(\"idfs\").glob(\"*.idf\"):\n",
    "    print (f)\n"
   ]
  },
  {
   "cell_type": "markdown",
   "id": "b5d1fc7c",
   "metadata": {},
   "source": [
    "### 1.3 Weather Files\n",
    "\n",
    "EnergyPlus requires detailed weather data to run a simulation. The weather data is in the epw file format and contains hourly (or sub-hourly) weather data which includes temperature, humidity, radiation, illumination, wind velocity data and more. The epw format is standardised. Its structure consists of a header which includes metadata about the location (latitude, longitude, timezone, etc.) and tabular weather data.\n",
    "\n",
    "The epw files are located in the weatherData directory. You can open them in VS Code or a spreadsheet to see how they are structured. The tabular data contains no headers so it is not clear what columns are what but an expalnation can be found here: [EPW Data Dictionary](https://bigladdersoftware.com/epx/docs/8-3/auxiliary-programs/energyplus-weather-file-epw-data-dictionary.html)\n",
    "\n",
    "You will need to download some weather files as part of your coursework. They can be found here [EnergyPlus](https://energyplus.net/weather) or here [Climate One](https://climate.onebuilding.org/)\n",
    "\n",
    "The current files in that directory are:\n"
   ]
  },
  {
   "cell_type": "code",
   "execution_count": null,
   "id": "087281f2",
   "metadata": {},
   "outputs": [],
   "source": [
    "for f in Path(\"weatherData\").glob(\"*.epw\"):\n",
    "    print (f)"
   ]
  },
  {
   "cell_type": "markdown",
   "id": "3bbb66f0",
   "metadata": {},
   "source": [
    "## 2. Running EnergyPlus through the command line\n",
    "\n",
    "First begin by creating a new directory within the iterations folder called Exercise_5C."
   ]
  },
  {
   "cell_type": "code",
   "execution_count": null,
   "id": "6af860a2",
   "metadata": {},
   "outputs": [],
   "source": [
    "# Create the folder which the simulation will run in\n",
    "output_path = Path(\"iterations\", \"Exercise_5C\")\n",
    "Path.mkdir(output_path, exist_ok = True)"
   ]
  },
  {
   "cell_type": "markdown",
   "id": "3db13f2d",
   "metadata": {},
   "source": [
    "### 2.1 Generating the command\n",
    "\n",
    "Most software can be run through Python if we know the command to give. Usually this begins with the executable (.exe) and is followed by a series arguments and optional switches.\n",
    "\n",
    "The command for EnergyPlus that we will be using is:\n",
    "\n",
    "ep_cmd = \"{ep_path} {idf_path} -w {weather_file_path} -d {output_path}\"\n",
    "\n",
    "* ep_path : The absolute path to the EnergyPlus executable file \n",
    "* idf_path : The absolute or relative path to the idf file being simulated\n",
    "Optional arguments\n",
    "* -w {weather_file_path} : Indicates we want to use a specific weather file\n",
    "* -d {output_path}: Indicated we want the output to be stored in a specific directory\n",
    "\n",
    "In a Jupyter Notebook the EnergyPlus simulation will run silently, ie a window should not appear which shows that the simulation is running. You can also open your Task Manager/Activity Monitor and EnergyPlus task should appear briefly."
   ]
  },
  {
   "cell_type": "code",
   "execution_count": null,
   "id": "40123642",
   "metadata": {},
   "outputs": [],
   "source": [
    "# Prepare the EnergyPlus command for Windows (NT) or Mac/Linux (Posix)\n",
    "if os.name == \"nt\": # Command for Windows users\n",
    "    ep_path = Path (ep_dir, \"energyplus.exe\")\n",
    "    ep_cmd = f\"{ep_path} {idf_path} -w {weather_file_path} -d {output_path}\"\n",
    "\n",
    "# If using a Mac/Linux machine\n",
    "elif os.name == \"posix\": # Generate command for Mac/Linux Users\n",
    "    ep_path = Path (ep_dir, \"energyplus\")\n",
    "    ep_cmd = f\"/{ep_path} {idf_path} -w {weather_file_path} -d {output_path}\"\n",
    "\n",
    "\n",
    "# Run the simulation through a command line call.\n",
    "# If EnergyPlus has a return code of 0, the simulation completed successfully\n",
    "# Otherwise an error occurred and this will be flagged.\n",
    "print (f\"Beginning EnergyPlus simulation.\", flush = True)\n",
    "t0 = time.time()\n",
    "retcode = subprocess.run(ep_cmd, shell = False, stdout=subprocess.DEVNULL, stderr=subprocess.STDOUT) \n",
    "t1 = time.time()\n",
    "\n",
    "if retcode.returncode == 0:\n",
    "    print (f\"Finished EnergyPlus simulation. Time of simulation = {t1 - t0:.4f} s.\", flush = True)\n",
    "else:\n",
    "    print (f\"Error in EnergyPlus simulation\", flush = True)\n",
    "\n"
   ]
  },
  {
   "cell_type": "markdown",
   "id": "ccb0ebc7",
   "metadata": {},
   "source": [
    "If everything went successfully, you will be able to see some results files appear in the *iterations//Exercise_5C* directory"
   ]
  },
  {
   "cell_type": "markdown",
   "id": "abc54ca5",
   "metadata": {},
   "source": [
    "### 2.2 Results Files\n",
    "\n",
    "EnergyPlus allows users to output a wide range of results depending on what information the user wants. These EnergyPlus files are set up to output metrics related to energy consumption and overheating/occupant comfort.\n",
    "\n",
    "There are two results files that are generated:\n",
    "* eplusout.csv : which contains hourly energy consumption and temperature and relative humidity\n",
    "* eplustbl.csv : which contains thermal resilience metrics\n",
    "\n",
    "### 2.2.1 Hourly Results CSV\n",
    "Open the hourly results csv"
   ]
  },
  {
   "cell_type": "code",
   "execution_count": null,
   "id": "7e6443fe",
   "metadata": {},
   "outputs": [],
   "source": [
    "# File Path for the eplusout.csv\n",
    "filePath = Path(\"iterations\", \"Exercise_5C\", \"eplusout.csv\")\n",
    "\n",
    "df = pd.read_csv(filePath)\n",
    "# Convert EnergyPlus' timestamps into a standardized datetime object \n",
    "# Need to include the .str.strip() to remove all leading whitespace otherwise an error can occur.\n",
    "df[\"Date/Time\"] = pd.to_datetime(df[\"Date/Time\"].str.strip(), format = \"%Y-%m-%dT%H:%M:%S\")\n",
    "df.set_index(\"Date/Time\", inplace=True)\n",
    "\n",
    "print (\"The hourly outputs in this simulation are:\")\n",
    "for col in df.columns:\n",
    "    print (f\"\\t* {col}\")"
   ]
  },
  {
   "cell_type": "markdown",
   "id": "011ef53d",
   "metadata": {},
   "source": [
    "Notice that EnergyPlus includes the units and time period of each output. EnergyPlus outputs in base SI units <span style = \"color:orange;\"> which should be converted to more appropriate units when presenting your results.</span>\n",
    "\n",
    "We can perform a number of analysis on each column using *Pandas*. Here are some examples:"
   ]
  },
  {
   "cell_type": "code",
   "execution_count": null,
   "id": "9554a471",
   "metadata": {},
   "outputs": [],
   "source": [
    "# Getting the annual sum\n",
    "heatingSum = df[\"ZONE 1 IDEAL LOADS AIR SYSTEM:Zone Ideal Loads Supply Air Total Heating Energy [J](Hourly)\"].sum()          # Annual heating demand [J]\n",
    "\n",
    "# Getting the peak heating load. Why am I dividing this by 3600?\n",
    "heatingMax = df[\"ZONE 1 IDEAL LOADS AIR SYSTEM:Zone Ideal Loads Supply Air Total Heating Energy [J](Hourly)\"].max() / 3600   # Peak heating demand [W] \n",
    "\n",
    "# Getting counts\n",
    "hoursTemperatureGreater25C = df[\"ZONE 1:Zone Operative Temperature [C](Hourly)\"][df[\"ZONE 1:Zone Operative Temperature [C](Hourly)\"] > 25].count() # Hours indoor temperature was greater than 25C [h]\n",
    "\n",
    "# Get monthly sums using resampling\n",
    "monthlyHeatingSum = df.resample(rule ='ME')[\"ZONE 1 IDEAL LOADS AIR SYSTEM:Zone Ideal Loads Supply Air Total Heating Energy [J](Hourly)\"].sum()\n",
    "\n",
    "print (f\"The annual heating energy load is {heatingSum:.4f} J.\")\n",
    "print (f\"The peak heating load is {heatingMax:.4f} W.\")\n",
    "print (f\"The nummber of hours the Temperature is greater than 25\\N{DEGREE SIGN}C is {hoursTemperatureGreater25C} hours.\")\n",
    "print (f\"The monthly heating energy loads are {monthlyHeatingSum}\")"
   ]
  },
  {
   "cell_type": "markdown",
   "id": "0dcf0d8a",
   "metadata": {},
   "source": [
    "You can calculate statistics for the other columns in similar manners using Pandas.\n",
    "\n",
    "I have created a separate function *processHourlyResults* which returns the most useful statistics in a dictionary. You can use that function instead of re-writing the code everytime.\n",
    "Refer to that function for the units."
   ]
  },
  {
   "cell_type": "code",
   "execution_count": null,
   "id": "a7236a2c",
   "metadata": {},
   "outputs": [],
   "source": [
    "# Import the function from src/processResults\n",
    "from src.processResults import processHourlyResults\n",
    "\n",
    "# Obtain the results in a dictionary format and then print the results\n",
    "hourlyResults = processHourlyResults (filePath)\n",
    "\n",
    "for k, v in hourlyResults.items():\n",
    "    print (f\"{k} : {v}\")"
   ]
  },
  {
   "cell_type": "markdown",
   "id": "7bca9a30",
   "metadata": {},
   "source": [
    "### 2.2.2 Thermal Resilience CSV\n",
    "\n",
    "EnergyPlus can be set-up to automatically generate an annual thermal resilience survey. This file contains the following metrics that can be used for the coursework\n",
    "* Heat Index Hours\n",
    "* Humidex Hours\n",
    "* SET Degree-Hours\n",
    "\n",
    "<span style=\"color:orange;\">NOTE: That these metrics will be explained in a future lecture.</span>\n",
    "\n",
    "Open the thermal resilience metrics csv. This is file is in a non-standard format and requires some processing to get into a useful format.\n",
    "\n",
    "I have created a separate function *processResilienceResults* which returns all these metrics in a dictionary. You can use that function if you require the more advanced resilience metrics.\n"
   ]
  },
  {
   "cell_type": "code",
   "execution_count": null,
   "id": "f04eb1ef",
   "metadata": {},
   "outputs": [],
   "source": [
    "from src.processResults import processResilienceResults\n",
    "\n",
    "# File Path for the eplusout.csv\n",
    "filePath = Path(\"iterations\", \"Exercise_5C\", \"eplustbl.csv\")\n",
    "\n",
    "resilienceResults = processResilienceResults(filePath)\n",
    "\n",
    "for k, v in resilienceResults.items():\n",
    "    print (f\"{k} : {v}\")"
   ]
  },
  {
   "cell_type": "markdown",
   "id": "2cfa8b2d",
   "metadata": {},
   "source": [
    "## 3. Editing the idf file\n",
    "\n",
    "This section will demonstrate how you can modify the idf file to change the values of parameters.\n",
    "\n",
    "<span style = \"color:lime;\"> Open the file *idfs/1-storey_Example5C.idf* in VS Code or a text editor and follow these steps. </span>"
   ]
  },
  {
   "cell_type": "markdown",
   "id": "8acc01dd",
   "metadata": {},
   "source": [
    "### 3.1 Manual Edits\n",
    "\n",
    "In this step we will manual change the thickness of wall insulation and the U-value and G-value of the windows.\n",
    "\n",
    "1. Save a copy of the file called *\"1-storey_Example5C_Part3.1.idf\"*\n",
    "2. In the idf file search for the section *ALL OBJECTS IN CLASS: MATERIAL* and find the material *Wall Insulation*\n",
    "3. We want to change the thickness of the insulation. It should currently be 0.050 m. <span style = \"color:lime;\">Change the value to 0.200 m and save the file</span>\n",
    "    * <span style = \"color:dodgerblue;\"> NOTE:</span> You can't directly specify a U-value in EnergyPlus. You need to change either the thickness (preferable) or the conductivity to modify the U-value.\n",
    "4. Re-run the simulation and collect the results"
   ]
  },
  {
   "cell_type": "code",
   "execution_count": null,
   "id": "88ce07a0",
   "metadata": {},
   "outputs": [],
   "source": [
    "# Enter the new idf_dir and output_dir\n",
    "idf_path = Path(\"idfs\", \"1-storey_Example5C_Part3.1.idf\")\n",
    "output_dir = \"Exercise_5C_Part3.1\"\n",
    "\n",
    "# Create the folder which the simulation will run in\n",
    "output_path = Path(\"iterations\", output_dir)\n",
    "Path.mkdir(output_path, exist_ok = True)\n",
    "\n",
    "# IF using a windows machine\n",
    "if os.name == \"nt\": # Command for Windows users\n",
    "    ep_path = Path (ep_dir, \"energyplus.exe\")\n",
    "    ep_cmd = f\"{ep_path} {idf_path} -w {weather_file_path} -d {output_path}\"\n",
    "\n",
    "# If using a Mac/Linux machine\n",
    "elif os.name == \"posix\": # Generate command for Mac/Linux Users\n",
    "    ep_path = Path (ep_dir, \"energyplus\")\n",
    "    ep_cmd = f\"/{ep_path} {baseline_idf_path} -w {weather_file_path} -d {output_path}\"\n",
    "\n",
    "\n",
    "# Run the simulation through a command line call.\n",
    "# If EnergyPlus has a return code of 0, the simulation completed successfully\n",
    "# Otherwise an error occurred and this will be flagged.\n",
    "print (f\"Beginning EnergyPlus simulation.\", flush = True)\n",
    "t0 = time.time()\n",
    "retcode = subprocess.run(ep_cmd, shell = False, stdout=subprocess.DEVNULL, stderr=subprocess.STDOUT) \n",
    "t1 = time.time()\n",
    "\n",
    "if retcode.returncode == 0:\n",
    "    print (f\"Finished EnergyPlus simulation. Time of simulation = {t1 - t0:.4f} s.\", flush = True)\n",
    "else:\n",
    "    print (f\"Error in EnergyPlus simulation\", flush = True)\n",
    "\n",
    "\n",
    "# File Path for the eplusout.csv\n",
    "filePath = Path(\"iterations\", output_dir, \"eplusout.csv\")\n",
    "# Obtain the results in a dictionary format and then print the results\n",
    "results_31 = processHourlyResults (filePath)\n",
    "\n",
    "for k, v in results_31.items():\n",
    "    print (f\"{k} : {v}\")"
   ]
  },
  {
   "cell_type": "markdown",
   "id": "66a56c34",
   "metadata": {},
   "source": [
    "Comparing the results from before and after changing the wall insulation thickness. Do the results make sense?"
   ]
  },
  {
   "cell_type": "code",
   "execution_count": null,
   "id": "51fbb2c2",
   "metadata": {},
   "outputs": [],
   "source": [
    "print (\"Heating Sum\")\n",
    "print (f\"\\t Before : {hourlyResults[\"heatingSum\"]}\")\n",
    "print (f\"\\t After : {results_31[\"heatingSum\"]}\")\n",
    "print (\"Peak Heating Load\")\n",
    "print (f\"\\t Before : {hourlyResults[\"heatingMax\"]}\")\n",
    "print (f\"\\t After : {results_31[\"heatingMax\"]}\")"
   ]
  },
  {
   "cell_type": "markdown",
   "id": "4c6272b2",
   "metadata": {},
   "source": [
    "### 3.2 Manual Edits - Window Properties\n",
    "\n",
    "<span style = \"color:lime;\">Repeat similar steps to manually change the window properties.</span>\n",
    "\n",
    "1. Find the section *ALL OBJECTS IN CLASS: WINDOWMATERIAL:SIMPLEGLAZINGSYSTEM*\n",
    "2. Change the U-factor from 2.0 to 0.75 W/m2K\n",
    "3. Change the *Solar Heat Gain Coefficient* from 0.6 to 0.3\n",
    "4. Save the file as *1-storey_Example5C_Part3.2.idf*"
   ]
  },
  {
   "cell_type": "code",
   "execution_count": null,
   "id": "9ff37c5c",
   "metadata": {},
   "outputs": [],
   "source": [
    "idf_path = Path(\"idfs\", \"1-storey_Example5C_Part3.2.idf\")\n",
    "output_dir = \"Exercise_5C_Part3.2\"\n",
    "\n",
    "# Create the folder which the simulation will run in\n",
    "output_path = Path(\"iterations\", output_dir)\n",
    "Path.mkdir(output_path, exist_ok = True)\n",
    "\n",
    "# IF using a windows machine\n",
    "if os.name == \"nt\": # Command for Windows users\n",
    "    ep_path = Path (ep_dir, \"energyplus.exe\")\n",
    "    ep_cmd = f\"{ep_path} {idf_path} -w {weather_file_path} -d {output_path}\"\n",
    "\n",
    "# If using a Mac/Linux machine\n",
    "elif os.name == \"posix\": # Generate command for Mac/Linux Users\n",
    "    ep_path = Path (ep_dir, \"energyplus\")\n",
    "    ep_cmd = f\"/{ep_path} {baseline_idf_path} -w {weather_file_path} -d {output_path}\"\n",
    "\n",
    "\n",
    "# Run the simulation through a command line call.\n",
    "# If EnergyPlus has a return code of 0, the simulation completed successfully\n",
    "# Otherwise an error occurred and this will be flagged.\n",
    "print (f\"Beginning EnergyPlus simulation.\", flush = True)\n",
    "t0 = time.time()\n",
    "retcode = subprocess.run(ep_cmd, shell = False, stdout=subprocess.DEVNULL, stderr=subprocess.STDOUT) \n",
    "t1 = time.time()\n",
    "\n",
    "if retcode.returncode == 0:\n",
    "    print (f\"Finished EnergyPlus simulation. Time of simulation = {t1 - t0:.4f} s.\", flush = True)\n",
    "else:\n",
    "    print (f\"Error in EnergyPlus simulation\", flush = True)\n",
    "\n",
    "\n",
    "# File Path for the eplusout.csv\n",
    "filePath = Path(\"iterations\", output_dir, \"eplusout.csv\")\n",
    "\n",
    "# Obtain the results in a dictionary format and then print the results\n",
    "results_32 = processHourlyResults (filePath)\n",
    "\n",
    "for k, v in results_32.items():\n",
    "    print (f\"{k} : {v}\")"
   ]
  },
  {
   "cell_type": "markdown",
   "id": "6e7cd315",
   "metadata": {},
   "source": [
    "Compare the three sets of results. Do the results make sense?"
   ]
  },
  {
   "cell_type": "code",
   "execution_count": null,
   "id": "cf4c7793",
   "metadata": {},
   "outputs": [],
   "source": [
    "print (\"Heating Sum\")\n",
    "print (f\"\\t Initial : {hourlyResults[\"heatingSum\"]}\")\n",
    "print (f\"\\t 3.1 : {results_31[\"heatingSum\"]}\")\n",
    "print (f\"\\t 3.2 : {results_32[\"heatingSum\"]}\")\n",
    "print (\"Peak Heating Load\")\n",
    "print (f\"\\t Initial : {hourlyResults[\"heatingMax\"]}\")\n",
    "print (f\"\\t 3.1 : {results_31[\"heatingMax\"]}\")\n",
    "print (f\"\\t 3.2 : {results_32[\"heatingMax\"]}\")"
   ]
  },
  {
   "cell_type": "markdown",
   "id": "9e4193c8",
   "metadata": {},
   "source": [
    "<span style=\"color:orange; font-size:150%;\">Simple, straightforward, and annoying!</span>"
   ]
  },
  {
   "cell_type": "markdown",
   "id": "cf00154d",
   "metadata": {},
   "source": [
    "## 4. Automating EnergyPlus Runs in Python\n",
    "In this chapter we will demonstrate a simple way of automating editing the idf files for use in parametric analysis, sensitivity analysis and optimization algorithms.\n",
    "\n",
    "### 4.1 Editing Text Files\n",
    "An idf is basically a well-structured text file. Python offers a number of ways of editing text files including built-in string methods and regular expressions (regex). We will be using a simple search and replace method.\n",
    "\n",
    "Python strings have a *replace* method which searches for a substring and replaces it with a new substring . Here is an example where will replace the word 'OK' with 'awesome':"
   ]
  },
  {
   "cell_type": "code",
   "execution_count": null,
   "id": "c89d8b2f",
   "metadata": {},
   "outputs": [],
   "source": [
    "string = \"Michael is an OK instructor.\"\n",
    "\n",
    "new_string = string.replace(\"OK\", \"Awesome\")\n",
    "\n",
    "print (f\"Old text: {string}\")\n",
    "print (f\"New text: {new_string}\")\n"
   ]
  },
  {
   "cell_type": "markdown",
   "id": "400c2dcb",
   "metadata": {},
   "source": [
    "## 4.2 Editing IDF Files\n",
    "We can use this same technique to modify idf files. Just find a parameter of interest and use the search and replace method to overwrite the file.\n",
    "\n",
    "* First we need to modify the idf file to insert an easy to find keystring which the search and replace method can easily find. A keystring is a unique string which is unlikely to be found elsewhere in the file. \n",
    "\n",
    "* For example, *'window'* would be viable keystring but would not be a good choice because the word *'window'* appears many times in the idf file and might cause errors if you try to run that file.\n",
    "\n",
    "* It is good practice to enclose the keystring with special characters that are unlikely to be found in the text file, such as the @ character.\n",
    "\n",
    "<span style = \"color:limegreen;\"> Modify the exisitng idf to automate changing the wall thickness. </span>"
   ]
  },
  {
   "cell_type": "markdown",
   "id": "b2c9208e",
   "metadata": {},
   "source": [
    "1. Open the file *idfs/1-storey_Example5C.idf* in VS Code or a text editor and follow the following steps.\n",
    "2. Save a copy of the file called *\"1-storey_Example5C_Part4.2.idf\"*\n",
    "3. In the idf file search for the section *ALL OBJECTS IN CLASS: MATERIAL* and find the material *Wall Insulation*\n",
    "4. We want to change the thickness of the insulation. It should currently be 0.050 m. <span style = \"color:lime;\">Overwrite that value with the string @wallInsulationThickness@</span>\n",
    "5. Save the file\n",
    "\n",
    "Next we, will automate the generation of idfs with different wall insulation thicknesses ranging from 0.001 to 0.3 m thick. <span style = \"color:dodgerblue;\">NOTE you can't enter an insulation value of 0 in EnergyPlus otherwise and error will occur.</span>"
   ]
  },
  {
   "cell_type": "code",
   "execution_count": null,
   "id": "6be5155a",
   "metadata": {},
   "outputs": [],
   "source": [
    "# Open the idf file\n",
    "baseline_idf_file = \"1-storey_Example5C_Part4.2.idf\"\n",
    "baseline_idf_path = Path(\"idfs\", baseline_idf_file)\n",
    "\n",
    "\n",
    "# Establish the list of 7 insulation thickness values to simulate\n",
    "values = [0.001, 0.050, 0.100, 0.150, 0.200, 0.250, 0.300]\n",
    "key = f\"@wallInsulationThickness@\"\n",
    "\n",
    "# Modify the baseline idf with \n",
    "for i, value in enumerate(values):\n",
    "    # Open the baseline idf as a text file.\n",
    "    with open (baseline_idf_path, \"r\") as f:\n",
    "        contents = f.read()\n",
    "\n",
    "    # Search and Replace\n",
    "    contents = contents.replace(key, str(value))\n",
    "\n",
    "    # Create the folder which the simulation will run in\n",
    "    output_path = Path(\"iterations\", f\"Exercise_5C_iteration_{i}\")\n",
    "    Path.mkdir(output_path, exist_ok = True)\n",
    "\n",
    "    # Write the updated idf file to the new_idf_path where it can then be run.\n",
    "    new_idf_path = Path(\"iterations\", f\"Exercise_5C_iteration_{i}\", f\"iteration_{i}.idf\")\n",
    "    with open(new_idf_path, \"w\") as f:\n",
    "        f.write(contents)\n",
    "\n",
    "    print (f\"Idf file with wall thickness insulation of {value}m saved in {new_idf_path}.\")\n"
   ]
  },
  {
   "cell_type": "markdown",
   "id": "e9f20226",
   "metadata": {},
   "source": [
    "<span style=\"color:orange; font-size:150%;\">Simple, straightforward, and less annoying!</span>"
   ]
  },
  {
   "cell_type": "markdown",
   "id": "b9e6fa3a",
   "metadata": {},
   "source": [
    "### 4.2.1 Perform these simulations in series"
   ]
  },
  {
   "cell_type": "code",
   "execution_count": null,
   "id": "ce8a56d8",
   "metadata": {},
   "outputs": [],
   "source": [
    "for i in range (7):\n",
    "    output_path = Path(\"iterations\", f\"Exercise_5C_iteration_{i}\")\n",
    "\n",
    "    # Create new path to save idf file based on iteration number\n",
    "    idf_path = Path(\"iterations\", f\"Exercise_5C_iteration_{i}\", f\"iteration_{i}.idf\")\n",
    "\n",
    "    # Prepare the EnergyPlus command for Windows (NT) or Mac/Linux (Posix)\n",
    "    if os.name == \"nt\": # Command for Windows users\n",
    "        ep_path = Path (ep_dir, \"energyplus.exe\")\n",
    "        ep_cmd = f\"{ep_path} {idf_path} -w {weather_file_path} -d {output_path}\"\n",
    "\n",
    "    elif os.name == \"posix\": # Generate command for Mac/Linux Users\n",
    "        ep_path = Path (ep_dir, \"energyplus\")\n",
    "        ep_cmd = f\"/{ep_path} {idf_path} -w {weather_file_path} -d {output_path}\"\n",
    "\n",
    "    # Run the simulation through a command line call.\n",
    "    # If EnergyPlus has a return code of 0, the simulation completed successfully\n",
    "    # Otherwise an error occurred and this will be flagged.\n",
    "    print (f\"Beginning EnergyPlus simulation of iteration {i}.\", flush = True)\n",
    "    t0 = time.time()\n",
    "    retcode = subprocess.run(ep_cmd, shell = False, stderr=subprocess.STDOUT) \n",
    "    t1 = time.time()\n",
    "\n",
    "    if retcode.returncode == 0:\n",
    "        print (f\"Finished EnergyPlus simulation of iteration {i}. Time of simulation = {t1 - t0:.4f} s.\", flush = True)\n",
    "    else:\n",
    "        print (f\"Error in EnergyPlus simulation of iteration {i}\", flush = True)\n"
   ]
  },
  {
   "cell_type": "markdown",
   "id": "621119f0",
   "metadata": {},
   "source": [
    "### 4.2.2. Collect the Results and Plot\n",
    "\n",
    "Collect the results in a for loop using the *processHourlyResults* function.\n",
    "\n",
    "Place the hourly results into a dataframe and save the results."
   ]
  },
  {
   "cell_type": "code",
   "execution_count": null,
   "id": "6dbf3a0c",
   "metadata": {},
   "outputs": [],
   "source": [
    "hourlyResults = []\n",
    "for i in range(7):\n",
    "    results_path = Path(\"iterations\", f\"Exercise_5C_iteration_{i}\", \"eplusout.csv\")\n",
    "\n",
    "    hourlyResults.append (processHourlyResults(results_path))\n",
    "\n",
    "# Putting the results into a dictionary makes it easy to convert into a dataframe\n",
    "df = pd.DataFrame(hourlyResults)\n",
    "\n",
    "# Add a column for the insulation thickness\n",
    "df[\"wallInsulationThickness\"] = values\n",
    "\n",
    "# Save the results file as a csv\n",
    "savePath = Path(\"outputs\", \"results\", f\"results_Exercise_5C_Part4.2.csv\")\n",
    "df.to_csv(savePath)\n",
    "\n",
    "print (f\"Dataframe saved to {savePath}.\")\n",
    "print (df)"
   ]
  },
  {
   "cell_type": "markdown",
   "id": "b1b9781d",
   "metadata": {},
   "source": [
    "# "
   ]
  },
  {
   "cell_type": "markdown",
   "id": "ccb0ce22",
   "metadata": {},
   "source": [
    "Generate some quick plots of the data:"
   ]
  },
  {
   "cell_type": "code",
   "execution_count": null,
   "id": "524ebcac",
   "metadata": {},
   "outputs": [],
   "source": [
    "# Arrange multiple plots in one figure by using nrows and ncols arguments\n",
    "fig, ax = plt.subplots(ncols = 3, nrows = 1)\n",
    "\n",
    "# Plot the energy demand\n",
    "ax[0].plot(df.wallInsulationThickness, df.heatingSum / 1.0E6, color = \"darkorange\", label = \"heating\")\n",
    "ax[0].plot(df.wallInsulationThickness, df.coolingSum / 1.0E6, color = \"dodgerblue\", label = \"cooling\")\n",
    "\n",
    "ax[0].set_xlabel(\"Wall Insulation Thickness [m]\")\n",
    "ax[0].set_ylabel(\"Annual Demand [MJ]\")\n",
    "ax[0].legend( loc = \"upper right\")\n",
    "\n",
    "# Plot the peak loads\n",
    "ax[1].plot(df.wallInsulationThickness, df.heatingMax / 1000, color = \"darkorange\", label = \"heating\")\n",
    "ax[1].plot(df.wallInsulationThickness, df.coolingMax / 1000, color = \"dodgerblue\", label = \"cooling\")\n",
    "\n",
    "ax[1].set_xlabel(\"Wall Insulation Thickness [m]\")\n",
    "ax[1].set_ylabel(\"Peak Demand [kW]\")\n",
    "ax[1].legend( loc = \"upper right\")\n",
    "\n",
    "# Plot the overheating data\n",
    "ax[2].plot(df.wallInsulationThickness, df[\"temperature>30C\"], color = \"magenta\")\n",
    "\n",
    "ax[2].set_xlabel(\"Wall Insulation Thickness [m]\")\n",
    "ax[2].set_ylabel(\"Hours Greater than 30 \\N{DEGREE SIGN}C\")\n",
    "\n",
    "fig.set_figwidth(13)\n",
    "fig.set_figheight(3.5)\n",
    "fig.tight_layout()\n",
    "plt.show()"
   ]
  },
  {
   "cell_type": "markdown",
   "id": "f3c6eddc",
   "metadata": {},
   "source": [
    "<span style=\"color:orange; font-weight:bold;\">Congratulations! You have just completed a parametric analysis.</span>\n",
    "\n",
    "<span style =\"color:lime;\">You can continue to practice in the cells below:</span>\n",
    "* <span style =\"color:lime;\">Repeat steps 4.2 to do a parametris analysis for window U-values (@u_windows@) and g-values (@g_value@).</span>"
   ]
  },
  {
   "cell_type": "markdown",
   "id": "8aa70bee",
   "metadata": {},
   "source": [
    "# 5. Tutorial 5 Summary\n",
    "\n",
    "In this tutorial, you will have learned:\n",
    "* How to perform a HDD linear regression analysis of energy bills\n",
    "* How to perform calculations and simulations in parallel\n",
    "* How to run EnergyPlus simulations using Python and automate changing parameters in parametric analysis\n",
    "* How to collect and analysis EnergyPlus simulation results\n",
    "\n",
    "In tutorial 6 and 7, we will build on these basics by getting EnergyPlus to run in parallel, and introducing multi-variable problem with thoughtful experimental design."
   ]
  }
 ],
 "metadata": {
  "kernelspec": {
   "display_name": ".venv (3.12.8)",
   "language": "python",
   "name": "python3"
  },
  "language_info": {
   "codemirror_mode": {
    "name": "ipython",
    "version": 3
   },
   "file_extension": ".py",
   "mimetype": "text/x-python",
   "name": "python",
   "nbconvert_exporter": "python",
   "pygments_lexer": "ipython3",
   "version": "3.12.8"
  }
 },
 "nbformat": 4,
 "nbformat_minor": 5
}
