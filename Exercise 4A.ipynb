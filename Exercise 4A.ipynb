{
 "cells": [
  {
   "cell_type": "markdown",
   "id": "279354c7",
   "metadata": {},
   "source": [
    "# Exercise 4A - Pareto Fronts\n",
    "Introduced during Tutorial 4\n",
    "\n",
    "In exercise 4A we will begin by using a simple <span style=\"color:orange;\"> synthetic dataset </span>. In Exercise 4B we generate a more complex synthetic dataset which will involve more detailed analysis. In Exercise 4C serves as template for your Coursework Question 4. You will you use some pre-compiled EnergyPlus data to build the Pareto Front.\n",
    "\n",
    "In this exercise, students will be guided on how to determine the min-min pareto front using two algorithms : an inefficient, but intuitive algorithm based on the manual method shown in class, and an efficient method implented in the *paretoset* package.\n",
    "\n",
    "### Colour codes\n",
    "\n",
    "<span style=\"color:orange;\"> Orange text is for emphasis and definitions </span>\n",
    "\n",
    "<span style=\"color:lime;\"> Green text is for tasks to be completed by the student </span>\n",
    "\n",
    "<span style=\"color:dodgerblue;\"> Blue text is for Python coding tricks and references </span>"
   ]
  },
  {
   "cell_type": "markdown",
   "id": "0c59ea4d",
   "metadata": {},
   "source": [
    "## Load all the necessary Python packages\n",
    "All packages should work with Conda environment if installed on your machine. Otherwise all necessary packages can be installed in a virtual environment (.venv) in VS Code using: Ctrl+Shift+P > Python: Create Environment > Venv > Python 3.12.x > requirements.txt\n",
    "\n",
    "<span style=\"color:orange;\"> NOTE: that we are using the **paretoset** package will be used. You may need to install this package using pip.</span>"
   ]
  },
  {
   "cell_type": "code",
   "execution_count": null,
   "id": "1c43df94",
   "metadata": {},
   "outputs": [],
   "source": [
    "import matplotlib.pyplot as plt\n",
    "\n",
    "import numpy as np\n",
    "import pandas as pd\n",
    "from paretoset import paretoset\n"
   ]
  },
  {
   "cell_type": "markdown",
   "id": "64d2e90f",
   "metadata": {},
   "source": [
    "## 1. Creating a synthetic dataset\n",
    "\n",
    "We will begin by generating a sample of *n* random points based on the equation for an ellipse.\n",
    "\n",
    "$$\n",
    "\\\n",
    "(x, y) = (a cos(\\theta), b (sin(\\theta)))\n",
    "\\\n",
    "$$\n",
    "\n",
    "Where,\n",
    "\n",
    "$$\n",
    "\\\n",
    "\\pi > \\theta > \\frac{3\\pi}{2} \\\\\n",
    "\n",
    "1 > a > 2 \\\\\n",
    "\n",
    "0.5 > b > 1\n",
    "\\\n",
    "$$\n",
    "\n",
    "Here we are restricting points to the lower left quadrant of the ellipse."
   ]
  },
  {
   "cell_type": "markdown",
   "id": "df9ce977",
   "metadata": {},
   "source": [
    "### 1.1 Enter the general parameters for this exercise\n",
    "<span style=\"color:limegreen;\"> Select the number of random samples and the random seed you want to use </span>"
   ]
  },
  {
   "cell_type": "code",
   "execution_count": null,
   "id": "20557d7d",
   "metadata": {},
   "outputs": [],
   "source": [
    "n = 50\n",
    "random_seed = 27"
   ]
  },
  {
   "cell_type": "markdown",
   "id": "a3a976cc",
   "metadata": {},
   "source": [
    "### 1.2 Set up a fixed random number generator with a random seed\n",
    "<span style=\"color:dodgerblue;\"> Setting up a random number generator (RNG) object with a fixed random seed is best practice, especially if you want to ensure consistency on each run. In this step we create a *generator* instance of Numpy's random number generator with the desired input seed.</span>"
   ]
  },
  {
   "cell_type": "code",
   "execution_count": null,
   "id": "6f223db0",
   "metadata": {},
   "outputs": [],
   "source": [
    "rng = np.random.default_rng(random_seed)"
   ]
  },
  {
   "cell_type": "markdown",
   "id": "9e2a80df",
   "metadata": {},
   "source": [
    "### 1.3 Generate the data points\n",
    "Using the rng create *n* (x, y) coordinate pairs based on the equation of the ellipse."
   ]
  },
  {
   "cell_type": "code",
   "execution_count": null,
   "id": "4dc82b71",
   "metadata": {},
   "outputs": [],
   "source": [
    "theta = rng.uniform(np.pi, 3/2 * np.pi, n)\n",
    "a = rng.uniform(1, 2, n)\n",
    "b = rng.uniform(0.5, 1, n)\n",
    "\n",
    "x = a * np.cos(theta) + 2 # Add 2 and 1 to ensure all data points are positive\n",
    "y = b * np.sin(theta) + 1\n",
    "\n",
    "print (\"The first ten points:\")\n",
    "for i in range (10):\n",
    "    print (f\"{i} ({x[i]:.4f}, {y[i]:.4f})\")"
   ]
  },
  {
   "cell_type": "markdown",
   "id": "92428a40",
   "metadata": {},
   "source": [
    "### 1.4 Plot the graph"
   ]
  },
  {
   "cell_type": "code",
   "execution_count": null,
   "id": "f58214fa",
   "metadata": {},
   "outputs": [],
   "source": [
    "fig, ax = plt.subplots()\n",
    "ax.scatter (x, y, color = \"red\", linewidths = 0.5, edgecolor = \"black\")\n",
    "\n",
    "ax.set_xlim(0, 2)\n",
    "ax.set_ylim(0, 1)\n",
    "\n",
    "ax.set_xlabel (\"x\")\n",
    "ax.set_ylabel (\"y\")\n",
    "\n",
    "ax.set_aspect(\"equal\", \"box\")\n",
    "fig.set_figwidth(7)\n",
    "fig.set_figheight(5)\n",
    "fig.tight_layout()\n"
   ]
  },
  {
   "cell_type": "markdown",
   "id": "b4caa268",
   "metadata": {},
   "source": [
    "## 2. Determine the Pareto Front\n",
    "### 2.1 The Inefficient Way\n",
    "Determine the Pareto Front in a for loop using the same methodology we did using the manual example.\n",
    "* Loop through each coordinate pair (*i*) and compare it to every other coordinate pair (*j*)\n",
    "* If both of *i*'s x and y coordinates are greater than *j*'s than that point is dominated \n",
    "    * Append its index to the list and we can break from the for loop."
   ]
  },
  {
   "cell_type": "code",
   "execution_count": null,
   "id": "f3bd84a9",
   "metadata": {},
   "outputs": [],
   "source": [
    "# Initialize a list for dominated points\n",
    "dominated = [] # Empty list to be appended to\n",
    "\n",
    "for i in range(n):\n",
    "    for j in range (n):\n",
    "        if x[i] > x[j] and y[i] > y[j]:\n",
    "            print (f\"{i} is dominated by {j}.\")\n",
    "            dominated.append(i)\n",
    "            break\n",
    "\n",
    "# Get the non-dominated points by using Python's sets function\n",
    "nonDominated = list(set(range(n)) - set(dominated))\n",
    "\n",
    "print (\"The dominated points are:\")\n",
    "print (dominated)\n",
    "\n",
    "print (\"The non-dominated points on the Pareto Front are:\")\n",
    "print (nonDominated)"
   ]
  },
  {
   "cell_type": "markdown",
   "id": "87ac2ab1",
   "metadata": {},
   "source": [
    "### 2.2 The Efficient way\n",
    "While this method is simple (7 lines of code), it is inefficient (0<sup>2</sup>), and not very robust (what if want to test max-max pareto front or wanted to perform a trivariate pareto front).\n",
    "\n",
    "The Python package *paretoset* [Link](https://pypi.org/project/paretoset/) has more efficient and more robust implementation of this algorithm taking advantage of Numpy arrays. The package is relatively straightforward to use provided that you give it the columns of the dataframe and identify the *senses* of each column - whether you want to the analysis on the min or max of those columns.\n",
    "\n",
    "To use the paretoset function we must place the data into a dataframe"
   ]
  },
  {
   "cell_type": "code",
   "execution_count": null,
   "id": "e42c75bd",
   "metadata": {},
   "outputs": [],
   "source": [
    "df = pd.DataFrame({\"x\" : x, \"y\" : y})"
   ]
  },
  {
   "cell_type": "markdown",
   "id": "2b0c689d",
   "metadata": {},
   "source": [
    "The paretoset function has the *sense* argument which tells us whether we want to determine the paretofront for the min-min, max-max, or min-max of the two variables.\n",
    "\n",
    "We will begin by doing the min-min pareto front."
   ]
  },
  {
   "cell_type": "code",
   "execution_count": null,
   "id": "ba1544ef",
   "metadata": {},
   "outputs": [],
   "source": [
    "paretoFront = paretoset(df, sense = [\"min\", \"min\"])\n",
    "\n",
    "# Return the non-dominated values in a list and print\n",
    "paretoFront_nonDominated = list(df[paretoFront].index)\n",
    "\n",
    "print (\"The non-dominated points on the Pareto Front are:\")\n",
    "print (paretoFront_nonDominated)\n"
   ]
  },
  {
   "cell_type": "markdown",
   "id": "335313bc",
   "metadata": {},
   "source": [
    "Do a quick check that both methods found the same list of points."
   ]
  },
  {
   "cell_type": "code",
   "execution_count": null,
   "id": "18fecaf5",
   "metadata": {},
   "outputs": [],
   "source": [
    "print(set(nonDominated) == set(paretoFront_nonDominated))"
   ]
  },
  {
   "cell_type": "markdown",
   "id": "9a564c10",
   "metadata": {},
   "source": [
    "## 3. Visualization\n",
    "To visualise the paretofront we can use scatterplots using different markers for those on the pareto front and those which are not.\n",
    "\n",
    "This can be done by using masks to create two separate dataframes and then plotting those two scatter points separately."
   ]
  },
  {
   "cell_type": "code",
   "execution_count": null,
   "id": "62961d38",
   "metadata": {},
   "outputs": [],
   "source": [
    "# Create separate dataframes for those on the Pareto Front and those which are not.\n",
    "# Those on the Pareto Front will be plotted separately with colour emphasized\n",
    "onPareto = df[paretoFront]\n",
    "\n",
    "offPareto = df[~paretoFront] # Note the tilde denotes 'not' \n",
    "\n",
    "fig, ax = plt.subplots()\n",
    "# First the points off of the Pareto front\n",
    "ax.scatter(offPareto.x, offPareto.y, c = \"red\",  linewidths = 0.5, edgecolors = \"black\")\n",
    "# Second those on the Pareto Front with colour green for emphasis\n",
    "ax.scatter(onPareto.x, onPareto.y,  c = \"lime\",  linewidths = 0.5, edgecolors = \"black\")\n",
    "\n",
    "ax.set_xlim(0, 2)\n",
    "ax.set_ylim(0, 1)\n",
    "\n",
    "ax.set_xlabel (\"x\")\n",
    "ax.set_ylabel (\"y\")\n",
    "\n",
    "ax.set_aspect(\"equal\", \"box\")\n",
    "fig.set_figwidth(7)\n",
    "fig.set_figheight(5)\n",
    "fig.tight_layout()\n",
    "\n",
    "plt.show()"
   ]
  },
  {
   "cell_type": "markdown",
   "id": "1a251a8b",
   "metadata": {},
   "source": [
    "## 4. Determining the max-max pareto front\n",
    "\n",
    "<span style=\"color:limegreen;\"> On your own, find the max-max paretofront from the data points already generated and plot the results. <b> Before you begin, which points do you expect to be on the pareto front?</span>\n",
    "\n",
    "### 4.1 Find the pareto front"
   ]
  },
  {
   "cell_type": "code",
   "execution_count": null,
   "id": "334527cb",
   "metadata": {},
   "outputs": [],
   "source": [
    "# Add code here"
   ]
  },
  {
   "cell_type": "markdown",
   "id": "a32d335d",
   "metadata": {},
   "source": [
    "### 4.2 Visualization"
   ]
  },
  {
   "cell_type": "code",
   "execution_count": null,
   "id": "664dacea",
   "metadata": {},
   "outputs": [],
   "source": [
    "# Add code here"
   ]
  }
 ],
 "metadata": {
  "kernelspec": {
   "display_name": ".venv (3.12.8)",
   "language": "python",
   "name": "python3"
  },
  "language_info": {
   "codemirror_mode": {
    "name": "ipython",
    "version": 3
   },
   "file_extension": ".py",
   "mimetype": "text/x-python",
   "name": "python",
   "nbconvert_exporter": "python",
   "pygments_lexer": "ipython3",
   "version": "3.12.8"
  }
 },
 "nbformat": 4,
 "nbformat_minor": 5
}
